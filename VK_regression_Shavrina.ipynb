{
 "cells": [
  {
   "cell_type": "markdown",
   "metadata": {},
   "source": [
    "# <center>Линейная регрессия, Lasso и RF-регрессия в задаче гендерной классификации пользователей Вконтакте</center>\n",
    "\n",
    "**Татьяна Шаврина, Ангелина Кудрявцева**"
   ]
  },
  {
   "cell_type": "code",
   "execution_count": 176,
   "metadata": {
    "collapsed": false
   },
   "outputs": [],
   "source": [
    "from __future__ import division, print_function\n",
    "# отключим всякие предупреждения Anaconda\n",
    "import warnings\n",
    "warnings.filterwarnings('ignore')\n",
    "from sklearn.metrics.regression import mean_squared_error\n",
    "from sklearn.preprocessing import StandardScaler\n",
    "from sklearn.grid_search import GridSearchCV\n",
    "from sklearn.cross_validation import cross_val_score, train_test_split\n",
    "from sklearn.linear_model import LinearRegression, LassoCV, Lasso\n",
    "from sklearn.ensemble import RandomForestRegressor\n",
    "from sklearn import metrics"
   ]
  },
  {
   "cell_type": "code",
   "execution_count": 11,
   "metadata": {
    "collapsed": true
   },
   "outputs": [],
   "source": [
    "import seaborn as sns\n",
    "import matplotlib.pyplot as plt\n",
    "import numpy as np"
   ]
  },
  {
   "cell_type": "code",
   "execution_count": 12,
   "metadata": {
    "collapsed": false
   },
   "outputs": [
    {
     "name": "stdout",
     "output_type": "stream",
     "text": [
      "Populating the interactive namespace from numpy and matplotlib\n"
     ]
    }
   ],
   "source": [
    "import pandas as pd\n",
    "%pylab inline"
   ]
  },
  {
   "cell_type": "code",
   "execution_count": 13,
   "metadata": {
    "collapsed": true
   },
   "outputs": [],
   "source": [
    "import re"
   ]
  },
  {
   "cell_type": "markdown",
   "metadata": {},
   "source": [
    "**Будем работать с прежним набором данных по профилям ВК**\n",
    "**Загружаем данные.**"
   ]
  },
  {
   "cell_type": "code",
   "execution_count": 112,
   "metadata": {
    "collapsed": false
   },
   "outputs": [
    {
     "data": {
      "text/html": [
       "<div>\n",
       "<table border=\"1\" class=\"dataframe\">\n",
       "  <thead>\n",
       "    <tr style=\"text-align: right;\">\n",
       "      <th></th>\n",
       "      <th>city_title</th>\n",
       "      <th>first_name</th>\n",
       "      <th>last_name</th>\n",
       "      <th>screen_name</th>\n",
       "      <th>can_see_all_posts</th>\n",
       "      <th>has_mobile</th>\n",
       "      <th>country_id</th>\n",
       "      <th>country_title</th>\n",
       "      <th>online</th>\n",
       "      <th>sex</th>\n",
       "      <th>...</th>\n",
       "      <th>artist</th>\n",
       "      <th>lyrics_id</th>\n",
       "      <th>date</th>\n",
       "      <th>duration</th>\n",
       "      <th>status_audio_id</th>\n",
       "      <th>owner_id</th>\n",
       "      <th>genre_id</th>\n",
       "      <th>album_id</th>\n",
       "      <th>no_search</th>\n",
       "      <th>deactivated</th>\n",
       "    </tr>\n",
       "  </thead>\n",
       "  <tbody>\n",
       "    <tr>\n",
       "      <th>0</th>\n",
       "      <td>Кингисепп</td>\n",
       "      <td>Maria</td>\n",
       "      <td>Maria</td>\n",
       "      <td>id95596964</td>\n",
       "      <td>0</td>\n",
       "      <td>1</td>\n",
       "      <td>1</td>\n",
       "      <td>Россия</td>\n",
       "      <td>1.0</td>\n",
       "      <td>1</td>\n",
       "      <td>...</td>\n",
       "      <td>NaN</td>\n",
       "      <td>NaN</td>\n",
       "      <td>NaN</td>\n",
       "      <td>NaN</td>\n",
       "      <td>NaN</td>\n",
       "      <td>NaN</td>\n",
       "      <td>NaN</td>\n",
       "      <td>NaN</td>\n",
       "      <td>NaN</td>\n",
       "      <td>NaN</td>\n",
       "    </tr>\n",
       "    <tr>\n",
       "      <th>1</th>\n",
       "      <td>Ахтырка</td>\n",
       "      <td>Женя</td>\n",
       "      <td>Кузнецова</td>\n",
       "      <td>id228580388</td>\n",
       "      <td>1</td>\n",
       "      <td>1</td>\n",
       "      <td>2</td>\n",
       "      <td>Украина</td>\n",
       "      <td>1.0</td>\n",
       "      <td>1</td>\n",
       "      <td>...</td>\n",
       "      <td>NaN</td>\n",
       "      <td>NaN</td>\n",
       "      <td>NaN</td>\n",
       "      <td>NaN</td>\n",
       "      <td>NaN</td>\n",
       "      <td>NaN</td>\n",
       "      <td>NaN</td>\n",
       "      <td>NaN</td>\n",
       "      <td>NaN</td>\n",
       "      <td>NaN</td>\n",
       "    </tr>\n",
       "    <tr>\n",
       "      <th>2</th>\n",
       "      <td>Кореновск</td>\n",
       "      <td>Валерий</td>\n",
       "      <td>Тарасов</td>\n",
       "      <td>id342844772</td>\n",
       "      <td>1</td>\n",
       "      <td>1</td>\n",
       "      <td>1</td>\n",
       "      <td>Россия</td>\n",
       "      <td>1.0</td>\n",
       "      <td>2</td>\n",
       "      <td>...</td>\n",
       "      <td>NaN</td>\n",
       "      <td>NaN</td>\n",
       "      <td>NaN</td>\n",
       "      <td>NaN</td>\n",
       "      <td>NaN</td>\n",
       "      <td>NaN</td>\n",
       "      <td>NaN</td>\n",
       "      <td>NaN</td>\n",
       "      <td>NaN</td>\n",
       "      <td>NaN</td>\n",
       "    </tr>\n",
       "    <tr>\n",
       "      <th>3</th>\n",
       "      <td>Винница</td>\n",
       "      <td>Виктория</td>\n",
       "      <td>Левченко</td>\n",
       "      <td>id299763940</td>\n",
       "      <td>1</td>\n",
       "      <td>1</td>\n",
       "      <td>2</td>\n",
       "      <td>Украина</td>\n",
       "      <td>1.0</td>\n",
       "      <td>1</td>\n",
       "      <td>...</td>\n",
       "      <td>NaN</td>\n",
       "      <td>NaN</td>\n",
       "      <td>NaN</td>\n",
       "      <td>NaN</td>\n",
       "      <td>NaN</td>\n",
       "      <td>NaN</td>\n",
       "      <td>NaN</td>\n",
       "      <td>NaN</td>\n",
       "      <td>NaN</td>\n",
       "      <td>NaN</td>\n",
       "    </tr>\n",
       "    <tr>\n",
       "      <th>4</th>\n",
       "      <td>Braga</td>\n",
       "      <td>Vrat</td>\n",
       "      <td>Zart</td>\n",
       "      <td>id348030308</td>\n",
       "      <td>1</td>\n",
       "      <td>1</td>\n",
       "      <td>161</td>\n",
       "      <td>Португалия</td>\n",
       "      <td>1.0</td>\n",
       "      <td>2</td>\n",
       "      <td>...</td>\n",
       "      <td>NaN</td>\n",
       "      <td>NaN</td>\n",
       "      <td>NaN</td>\n",
       "      <td>NaN</td>\n",
       "      <td>NaN</td>\n",
       "      <td>NaN</td>\n",
       "      <td>NaN</td>\n",
       "      <td>NaN</td>\n",
       "      <td>NaN</td>\n",
       "      <td>NaN</td>\n",
       "    </tr>\n",
       "  </tbody>\n",
       "</table>\n",
       "<p>5 rows × 68 columns</p>\n",
       "</div>"
      ],
      "text/plain": [
       "  city_title first_name  last_name  screen_name can_see_all_posts has_mobile  \\\n",
       "0  Кингисепп      Maria      Maria   id95596964                 0          1   \n",
       "1    Ахтырка       Женя  Кузнецова  id228580388                 1          1   \n",
       "2  Кореновск    Валерий    Тарасов  id342844772                 1          1   \n",
       "3    Винница   Виктория   Левченко  id299763940                 1          1   \n",
       "4      Braga       Vrat       Zart  id348030308                 1          1   \n",
       "\n",
       "  country_id country_title  online sex     ...     artist lyrics_id date  \\\n",
       "0          1        Россия     1.0   1     ...        NaN       NaN  NaN   \n",
       "1          2       Украина     1.0   1     ...        NaN       NaN  NaN   \n",
       "2          1        Россия     1.0   2     ...        NaN       NaN  NaN   \n",
       "3          2       Украина     1.0   1     ...        NaN       NaN  NaN   \n",
       "4        161    Португалия     1.0   2     ...        NaN       NaN  NaN   \n",
       "\n",
       "  duration status_audio_id owner_id genre_id album_id no_search deactivated  \n",
       "0      NaN             NaN      NaN      NaN      NaN       NaN         NaN  \n",
       "1      NaN             NaN      NaN      NaN      NaN       NaN         NaN  \n",
       "2      NaN             NaN      NaN      NaN      NaN       NaN         NaN  \n",
       "3      NaN             NaN      NaN      NaN      NaN       NaN         NaN  \n",
       "4      NaN             NaN      NaN      NaN      NaN       NaN         NaN  \n",
       "\n",
       "[5 rows x 68 columns]"
      ]
     },
     "execution_count": 112,
     "metadata": {},
     "output_type": "execute_result"
    }
   ],
   "source": [
    "data = pd.read_csv(r'G:\\GICRL_Knowledge_Base\\достоверность_профилей\\для_выборки\\VK\\final_vkprofiles.csv', sep=';',  encoding='utf-8')\n",
    "data.head()"
   ]
  },
  {
   "cell_type": "code",
   "execution_count": 3,
   "metadata": {
    "collapsed": false
   },
   "outputs": [
    {
     "name": "stdout",
     "output_type": "stream",
     "text": [
      "<class 'pandas.core.frame.DataFrame'>\n",
      "RangeIndex: 38751 entries, 0 to 38750\n",
      "Data columns (total 68 columns):\n",
      "city_title                         26750 non-null object\n",
      "first_name                         38751 non-null object\n",
      "last_name                          38751 non-null object\n",
      "screen_name                        38658 non-null object\n",
      "can_see_all_posts                  38535 non-null object\n",
      "has_mobile                         38684 non-null object\n",
      "country_id                         28645 non-null object\n",
      "country_title                      28726 non-null object\n",
      "online                             38629 non-null float64\n",
      "sex                                38472 non-null object\n",
      "photo_medium                       38468 non-null object\n",
      "bdate                              22948 non-null object\n",
      "can_post                           38453 non-null object\n",
      "home_phone                         2063 non-null object\n",
      "photo                              38451 non-null object\n",
      "can_write_private_message          38452 non-null object\n",
      "activity                           15241 non-null object\n",
      "nickname                           820 non-null object\n",
      "id_1                               38196 non-null object\n",
      "photo_big                          38304 non-null object\n",
      "platform                           38107 non-null object\n",
      "time                               38213 non-null object\n",
      "university_name                    3786 non-null object\n",
      "faculty                            26910 non-null object\n",
      "relation                           26886 non-null object\n",
      "country                            3522 non-null object\n",
      "universities_university_id         3522 non-null object\n",
      "name                               3522 non-null object\n",
      "city                               3463 non-null float64\n",
      "education_form                     1155 non-null object\n",
      "graduation                         2238 non-null float64\n",
      "chair_name                         1430 non-null object\n",
      "faculty_name                       2182 non-null object\n",
      "universities_university_faculty    2271 non-null object\n",
      "chair                              1357 non-null object\n",
      "education_status                   945 non-null object\n",
      "faculty_name_1                     2162 non-null object\n",
      "online_mobile                      19587 non-null float64\n",
      "university                         26732 non-null float64\n",
      "graduation_1                       26731 non-null float64\n",
      "online_app                         15637 non-null float64\n",
      "videos                             12558 non-null float64\n",
      "notes                              12558 non-null float64\n",
      "audios                             12558 non-null float64\n",
      "photos                             12558 non-null float64\n",
      "followers                          12558 non-null float64\n",
      "albums                             12558 non-null float64\n",
      "gifts                              9845 non-null float64\n",
      "groups                             8770 non-null float64\n",
      "user_videos                        9456 non-null float64\n",
      "education_form_1                   1114 non-null object\n",
      "education_status_1                 954 non-null object\n",
      "relation_partner_first_name        1010 non-null object\n",
      "relation_partner_last_name         1008 non-null object\n",
      "relation_partner_id                1010 non-null float64\n",
      "hidden                             4467 non-null float64\n",
      "status_audio_title                 979 non-null object\n",
      "url                                979 non-null object\n",
      "artist                             979 non-null object\n",
      "lyrics_id                          649 non-null float64\n",
      "date                               979 non-null float64\n",
      "duration                           979 non-null float64\n",
      "status_audio_id                    979 non-null float64\n",
      "owner_id                           979 non-null float64\n",
      "genre_id                           888 non-null float64\n",
      "album_id                           93 non-null float64\n",
      "no_search                          8 non-null float64\n",
      "deactivated                        9 non-null object\n",
      "dtypes: float64(26), object(42)\n",
      "memory usage: 20.1+ MB\n"
     ]
    }
   ],
   "source": [
    "data.info()"
   ]
  },
  {
   "cell_type": "markdown",
   "metadata": {},
   "source": [
    "**Почистим данные**"
   ]
  },
  {
   "cell_type": "code",
   "execution_count": 114,
   "metadata": {
    "collapsed": true
   },
   "outputs": [],
   "source": [
    "data = data[(data['sex']== '0' )|(data['sex']=='1') |(data['sex']=='2')|(data['sex']==None)]"
   ]
  },
  {
   "cell_type": "code",
   "execution_count": 115,
   "metadata": {
    "collapsed": true
   },
   "outputs": [],
   "source": [
    "data['sex_num'] = data['sex'].astype(float)"
   ]
  },
  {
   "cell_type": "code",
   "execution_count": 116,
   "metadata": {
    "collapsed": true
   },
   "outputs": [],
   "source": [
    "data = data[(data['relation']== '0' )|(data['relation']=='1') |(data['relation']=='2')|(data['relation']=='3')|(data['relation']=='4')|(data['relation']=='5')|(data['relation']=='6')|(data['relation']=='7')|(data['relation']==None)]"
   ]
  },
  {
   "cell_type": "code",
   "execution_count": 117,
   "metadata": {
    "collapsed": true
   },
   "outputs": [],
   "source": [
    "def birth_year(age):\n",
    "    if re.search(r'\\d{4}', str(age)):\n",
    "        result = re.search(r'\\d{4}', str(age))\n",
    "        #print(result.group(0))\n",
    "        return int(result.group(0))\n",
    "    else:\n",
    "        return None"
   ]
  },
  {
   "cell_type": "code",
   "execution_count": 118,
   "metadata": {
    "collapsed": false
   },
   "outputs": [],
   "source": [
    "birth_years = [birth_year(age) for age in data.bdate]"
   ]
  },
  {
   "cell_type": "code",
   "execution_count": 119,
   "metadata": {
    "collapsed": false
   },
   "outputs": [
    {
     "data": {
      "text/plain": [
       "<matplotlib.axes._subplots.AxesSubplot at 0x1772cba8>"
      ]
     },
     "execution_count": 119,
     "metadata": {},
     "output_type": "execute_result"
    },
    {
     "data": {
      "image/png": "[encoded data removed]",
      "text/plain": [
       "<matplotlib.figure.Figure at 0x17746400>"
      ]
     },
     "metadata": {},
     "output_type": "display_data"
    }
   ],
   "source": [
    "data['Birth_year'] = birth_years\n",
    "#data['Birth_year'].hist(normed=True)\n",
    "#plt.title('Birth year statistics')\n",
    "#plt.show()\n",
    "sns.countplot(x = data['Birth_year'])"
   ]
  },
  {
   "cell_type": "code",
   "execution_count": 113,
   "metadata": {
    "collapsed": false
   },
   "outputs": [],
   "source": [
    "# для этого создадим новый признак 'Info_count'\n",
    "for i in range(data.shape[0]):\n",
    "    #print (i)\n",
    "    data.at[i,'Info_count'] = len(data.loc[i, ['city_title','first_name','last_name','screen_name','can_see_all_posts','has_mobile','country_id','country_title','online','sex','photo_medium', 'bdate','can_post','home_phone','photo','can_write_private_message', 'activity','nickname','id_1','photo_big','platform','time', 'university_name','faculty','relation','country', 'universities_university_id','name','city','education_form','graduation', 'chair_name','faculty_name','universities_university_faculty','chair', 'education_status','online_mobile','university','online_app','videos','notes','audios','photos','followers', 'albums','gifts','groups','user_videos','relation_partner_first_name', 'relation_partner_last_name','relation_partner_id','hidden', 'status_audio_title','url','artist','lyrics_id','date','duration','status_audio_id','owner_id','genre_id','album_id','no_search','deactivated']].dropna())"
   ]
  },
  {
   "cell_type": "code",
   "execution_count": 120,
   "metadata": {
    "collapsed": true
   },
   "outputs": [],
   "source": [
    "data = data.fillna(data.median(axis=0), axis=0)"
   ]
  },
  {
   "cell_type": "markdown",
   "metadata": {},
   "source": [
    "**Отделим целевой признак (пол), разделим обучающую выборку в отношении 7:3 (30% - под оставленную выборку, пусть random_state=7) и отмасштабируем данные с помощью StandardScaler.**"
   ]
  },
  {
   "cell_type": "code",
   "execution_count": 123,
   "metadata": {
    "collapsed": false
   },
   "outputs": [],
   "source": [
    "data1 = data\n",
    "data1 = data1.drop(['city_title'], axis=1)\n",
    "data1 = data1.drop(['first_name'], axis=1)\n",
    "data1 = data1.drop(['last_name'], axis=1)\n",
    "data1 = data1.drop(['screen_name'], axis=1)\n",
    "data1 = data1.drop(['country_title'], axis=1)\n",
    "data1 = data1.drop(['photo_medium'], axis=1)\n",
    "data1 = data1.drop(['photo_big'], axis=1)\n",
    "data1 = data1.drop(['bdate'], axis=1)\n",
    "data1 = data1.drop(['photo'], axis=1)\n",
    "data1 = data1.drop(['activity'], axis=1)\n",
    "data1 = data1.drop(['nickname'], axis=1) \n",
    "data1 = data1.drop(['education_form'], axis=1)\n",
    "data1 = data1.drop(['chair_name'], axis=1)\n",
    "data1 = data1.drop(['faculty_name'], axis=1)\n",
    "data1 = data1.drop(['universities_university_faculty'], axis=1)\n",
    "data1 = data1.drop(['universities_university_id'], axis=1)\n",
    "data1 = data1.drop(['name'], axis=1)\n",
    "data1 = data1.drop(['chair'], axis=1)\n",
    "data1 = data1.drop(['education_form_1'], axis=1)\n",
    "data1 = data1.drop(['education_status'], axis=1)\n",
    "data1 = data1.drop(['faculty_name_1'], axis=1)\n",
    "data1 = data1.drop(['education_status_1'], axis=1)\n",
    "data1 = data1.drop(['relation_partner_first_name'], axis=1)\n",
    "data1 = data1.drop(['relation_partner_last_name'], axis=1)\n",
    "data1 = data1.drop(['status_audio_title'], axis=1)\n",
    "data1 = data1.drop(['url'], axis=1)\n",
    "data1 = data1.drop(['artist'], axis=1)\n",
    "data1 = data1.drop(['deactivated'], axis=1)\n",
    "data1 = data1.drop(['country'], axis=1)\n",
    "data1 = data1.drop(['faculty'], axis=1)\n",
    "data1 = data1.drop(['university_name'], axis=1)\n",
    "data1 = data1.drop(['date'], axis=1) \n",
    "data1 = data1.drop(['home_phone'], axis=1)\n",
    "\n",
    "data1 = data1.drop(['relation_partner_id'], axis=1)\n",
    "data1 = data1.drop(['id_1'], axis=1)\n",
    "data1 = data1.drop(['lyrics_id'], axis=1)\n",
    "data1 = data1.drop(['status_audio_id'], axis=1)\n",
    "data1 = data1.drop(['owner_id'], axis=1)\n",
    "data1 = data1.drop(['genre_id'], axis=1)\n",
    "data1 = data1.drop(['album_id'], axis=1)\n",
    "data1 = data1.drop(['hidden'], axis=1)\n"
   ]
  },
  {
   "cell_type": "code",
   "execution_count": 124,
   "metadata": {
    "collapsed": false
   },
   "outputs": [
    {
     "name": "stdout",
     "output_type": "stream",
     "text": [
      "['can_see_all_posts' 'has_mobile' 'country_id' 'online' 'sex' 'can_post'\n",
      " 'can_write_private_message' 'platform' 'time' 'relation' 'city'\n",
      " 'graduation' 'online_mobile' 'university' 'graduation_1' 'online_app'\n",
      " 'videos' 'notes' 'audios' 'photos' 'followers' 'albums' 'gifts' 'groups'\n",
      " 'user_videos' 'duration' 'no_search' 'Info_count' 'sex_num' 'Birth_year']\n"
     ]
    }
   ],
   "source": [
    "print(data1.columns.values)"
   ]
  },
  {
   "cell_type": "code",
   "execution_count": 107,
   "metadata": {
    "collapsed": true
   },
   "outputs": [],
   "source": [
    "data1 = data1.fillna(data.median(axis=0), axis=0)\n"
   ]
  },
  {
   "cell_type": "code",
   "execution_count": 125,
   "metadata": {
    "collapsed": true
   },
   "outputs": [],
   "source": [
    "data1.to_csv(r'G:\\GICRL_Knowledge_Base\\достоверность_профилей\\для_выборки\\VK\\final_vkprofiles_data_regr2.csv', sep=';')"
   ]
  },
  {
   "cell_type": "code",
   "execution_count": 226,
   "metadata": {
    "collapsed": true
   },
   "outputs": [],
   "source": [
    "X = pd.read_csv(r'G:\\GICRL_Knowledge_Base\\достоверность_профилей\\для_выборки\\VK\\final_vkprofiles_data_regr3.csv', sep=';',  encoding='utf-8')\n",
    "y = data['sex_num']\n",
    "\n",
    "X = X.drop(['sex_num'], axis=1)\n",
    "X = X.drop(['sex'], axis=1)"
   ]
  },
  {
   "cell_type": "code",
   "execution_count": 228,
   "metadata": {
    "collapsed": false
   },
   "outputs": [],
   "source": [
    "X_train, X_30, y_train, y_30 = train_test_split(X, y, test_size=0.3, random_state=7)\n",
    "scaler = StandardScaler()\n",
    "X_train_scaled = scaler.fit_transform(X_train) \n",
    "X_30_scaled = scaler.transform(X_30)"
   ]
  },
  {
   "cell_type": "markdown",
   "metadata": {},
   "source": [
    "## Линейная регрессия"
   ]
  },
  {
   "cell_type": "markdown",
   "metadata": {},
   "source": [
    "**Обучим простую линейную регрессию.**"
   ]
  },
  {
   "cell_type": "code",
   "execution_count": 229,
   "metadata": {
    "collapsed": false
   },
   "outputs": [
    {
     "data": {
      "text/plain": [
       "LinearRegression(copy_X=True, fit_intercept=True, n_jobs=1, normalize=False)"
      ]
     },
     "execution_count": 229,
     "metadata": {},
     "output_type": "execute_result"
    }
   ],
   "source": [
    "linreg = LinearRegression()\n",
    "linreg.fit(X_train_scaled, y_train)"
   ]
  },
  {
   "cell_type": "markdown",
   "metadata": {},
   "source": [
    "**Оценим среднеквадратичную ошибку модели на обучающей и отложенной выборках.**"
   ]
  },
  {
   "cell_type": "code",
   "execution_count": 230,
   "metadata": {
    "collapsed": false
   },
   "outputs": [
    {
     "data": {
      "text/plain": [
       "0.25200822743092083"
      ]
     },
     "execution_count": 230,
     "metadata": {},
     "output_type": "execute_result"
    }
   ],
   "source": [
    "# на обучающей\n",
    "predicted_error = linreg.predict(X_train_scaled)\n",
    "mean_squared_error (y_train, predicted_error)"
   ]
  },
  {
   "cell_type": "code",
   "execution_count": 231,
   "metadata": {
    "collapsed": false
   },
   "outputs": [
    {
     "data": {
      "text/plain": [
       "0.25075113870443955"
      ]
     },
     "execution_count": 231,
     "metadata": {},
     "output_type": "execute_result"
    }
   ],
   "source": [
    "# на отложенной\n",
    "predicted_error_30 = linreg.predict(X_30_scaled)\n",
    "mean_squared_error (y_30, predicted_error_30)"
   ]
  },
  {
   "cell_type": "markdown",
   "metadata": {},
   "source": [
    "**Посмотрим на коэффициенты модели и отранжируем признаки по влиянию (большие по модулю отрицательные значения коэффициентов тоже говорят о сильном влиянии). Создайте для этого новый небольшой DataFrame.**"
   ]
  },
  {
   "cell_type": "code",
   "execution_count": 232,
   "metadata": {
    "collapsed": false
   },
   "outputs": [
    {
     "data": {
      "text/html": [
       "<div>\n",
       "<table border=\"1\" class=\"dataframe\">\n",
       "  <thead>\n",
       "    <tr style=\"text-align: right;\">\n",
       "      <th></th>\n",
       "      <th>0</th>\n",
       "    </tr>\n",
       "  </thead>\n",
       "  <tbody>\n",
       "    <tr>\n",
       "      <th>gifts</th>\n",
       "      <td>-1.593439e-02</td>\n",
       "    </tr>\n",
       "    <tr>\n",
       "      <th>graduation_1</th>\n",
       "      <td>-1.437268e-02</td>\n",
       "    </tr>\n",
       "    <tr>\n",
       "      <th>photos</th>\n",
       "      <td>-1.358237e-02</td>\n",
       "    </tr>\n",
       "    <tr>\n",
       "      <th>followers</th>\n",
       "      <td>-1.006513e-02</td>\n",
       "    </tr>\n",
       "    <tr>\n",
       "      <th>albums</th>\n",
       "      <td>-9.432200e-03</td>\n",
       "    </tr>\n",
       "    <tr>\n",
       "      <th>relation</th>\n",
       "      <td>-7.782715e-03</td>\n",
       "    </tr>\n",
       "    <tr>\n",
       "      <th>country_id</th>\n",
       "      <td>-7.123168e-03</td>\n",
       "    </tr>\n",
       "    <tr>\n",
       "      <th>user_videos</th>\n",
       "      <td>-6.677245e-03</td>\n",
       "    </tr>\n",
       "    <tr>\n",
       "      <th>online</th>\n",
       "      <td>-4.835052e-03</td>\n",
       "    </tr>\n",
       "    <tr>\n",
       "      <th>can_see_all_posts</th>\n",
       "      <td>-2.289498e-03</td>\n",
       "    </tr>\n",
       "    <tr>\n",
       "      <th>no_search</th>\n",
       "      <td>1.734723e-18</td>\n",
       "    </tr>\n",
       "    <tr>\n",
       "      <th>online_mobile</th>\n",
       "      <td>2.307182e-16</td>\n",
       "    </tr>\n",
       "    <tr>\n",
       "      <th>platform</th>\n",
       "      <td>1.122859e-03</td>\n",
       "    </tr>\n",
       "    <tr>\n",
       "      <th>groups</th>\n",
       "      <td>1.869671e-03</td>\n",
       "    </tr>\n",
       "    <tr>\n",
       "      <th>audios</th>\n",
       "      <td>4.525164e-03</td>\n",
       "    </tr>\n",
       "    <tr>\n",
       "      <th>graduation</th>\n",
       "      <td>5.238360e-03</td>\n",
       "    </tr>\n",
       "    <tr>\n",
       "      <th>duration</th>\n",
       "      <td>6.239111e-03</td>\n",
       "    </tr>\n",
       "    <tr>\n",
       "      <th>university</th>\n",
       "      <td>6.616581e-03</td>\n",
       "    </tr>\n",
       "    <tr>\n",
       "      <th>city</th>\n",
       "      <td>8.349921e-03</td>\n",
       "    </tr>\n",
       "    <tr>\n",
       "      <th>Birth_year</th>\n",
       "      <td>8.382319e-03</td>\n",
       "    </tr>\n",
       "    <tr>\n",
       "      <th>Info_count</th>\n",
       "      <td>1.322148e-02</td>\n",
       "    </tr>\n",
       "    <tr>\n",
       "      <th>notes</th>\n",
       "      <td>1.489637e-02</td>\n",
       "    </tr>\n",
       "    <tr>\n",
       "      <th>can_post</th>\n",
       "      <td>1.710905e-02</td>\n",
       "    </tr>\n",
       "    <tr>\n",
       "      <th>videos</th>\n",
       "      <td>2.334979e-02</td>\n",
       "    </tr>\n",
       "    <tr>\n",
       "      <th>can_write_private_message</th>\n",
       "      <td>2.348158e-02</td>\n",
       "    </tr>\n",
       "    <tr>\n",
       "      <th>online_app</th>\n",
       "      <td>3.257724e-02</td>\n",
       "    </tr>\n",
       "    <tr>\n",
       "      <th>has_mobile</th>\n",
       "      <td>3.871909e-02</td>\n",
       "    </tr>\n",
       "  </tbody>\n",
       "</table>\n",
       "</div>"
      ],
      "text/plain": [
       "                                      0\n",
       "gifts                     -1.593439e-02\n",
       "graduation_1              -1.437268e-02\n",
       "photos                    -1.358237e-02\n",
       "followers                 -1.006513e-02\n",
       "albums                    -9.432200e-03\n",
       "relation                  -7.782715e-03\n",
       "country_id                -7.123168e-03\n",
       "user_videos               -6.677245e-03\n",
       "online                    -4.835052e-03\n",
       "can_see_all_posts         -2.289498e-03\n",
       "no_search                  1.734723e-18\n",
       "online_mobile              2.307182e-16\n",
       "platform                   1.122859e-03\n",
       "groups                     1.869671e-03\n",
       "audios                     4.525164e-03\n",
       "graduation                 5.238360e-03\n",
       "duration                   6.239111e-03\n",
       "university                 6.616581e-03\n",
       "city                       8.349921e-03\n",
       "Birth_year                 8.382319e-03\n",
       "Info_count                 1.322148e-02\n",
       "notes                      1.489637e-02\n",
       "can_post                   1.710905e-02\n",
       "videos                     2.334979e-02\n",
       "can_write_private_message  2.348158e-02\n",
       "online_app                 3.257724e-02\n",
       "has_mobile                 3.871909e-02"
      ]
     },
     "execution_count": 232,
     "metadata": {},
     "output_type": "execute_result"
    }
   ],
   "source": [
    "linreg_coef = pd.DataFrame(linreg.coef_,index=X.columns)\n",
    "linreg_coef.sort_values(0)"
   ]
  },
  {
   "cell_type": "markdown",
   "metadata": {},
   "source": [
    "## Lasso-регрессия"
   ]
  },
  {
   "cell_type": "markdown",
   "metadata": {},
   "source": [
    "**Обучим Lasso-регрессию с небольшим коэффициентом $\\alpha = 0.01$ (слабая регуляризация). Пусть опять random_state=7.**"
   ]
  },
  {
   "cell_type": "code",
   "execution_count": 233,
   "metadata": {
    "collapsed": false
   },
   "outputs": [
    {
     "data": {
      "text/plain": [
       "Lasso(alpha=0.01, copy_X=True, fit_intercept=True, max_iter=1000,\n",
       "   normalize=False, positive=False, precompute=False, random_state=7,\n",
       "   selection='cyclic', tol=0.0001, warm_start=False)"
      ]
     },
     "execution_count": 233,
     "metadata": {},
     "output_type": "execute_result"
    }
   ],
   "source": [
    "alpha = 0.01\n",
    "lasso_small = Lasso(alpha, random_state=7)\n",
    "lasso_small.fit(X_train_scaled, y_train)"
   ]
  },
  {
   "cell_type": "markdown",
   "metadata": {},
   "source": [
    "**Посмотрим на коэффициенты модели и отранжируйте признаки по влиянию на качество вина. Какой признак \"отвалился\" первым, то есть наименее важен для объяснения целевого признака в модели Lasso?**"
   ]
  },
  {
   "cell_type": "code",
   "execution_count": 234,
   "metadata": {
    "collapsed": false
   },
   "outputs": [
    {
     "data": {
      "text/html": [
       "<div>\n",
       "<table border=\"1\" class=\"dataframe\">\n",
       "  <thead>\n",
       "    <tr style=\"text-align: right;\">\n",
       "      <th></th>\n",
       "      <th>0</th>\n",
       "    </tr>\n",
       "  </thead>\n",
       "  <tbody>\n",
       "    <tr>\n",
       "      <th>photos</th>\n",
       "      <td>-0.004746</td>\n",
       "    </tr>\n",
       "    <tr>\n",
       "      <th>gifts</th>\n",
       "      <td>-0.004393</td>\n",
       "    </tr>\n",
       "    <tr>\n",
       "      <th>followers</th>\n",
       "      <td>-0.001220</td>\n",
       "    </tr>\n",
       "    <tr>\n",
       "      <th>can_see_all_posts</th>\n",
       "      <td>0.000000</td>\n",
       "    </tr>\n",
       "    <tr>\n",
       "      <th>no_search</th>\n",
       "      <td>0.000000</td>\n",
       "    </tr>\n",
       "    <tr>\n",
       "      <th>duration</th>\n",
       "      <td>0.000000</td>\n",
       "    </tr>\n",
       "    <tr>\n",
       "      <th>user_videos</th>\n",
       "      <td>-0.000000</td>\n",
       "    </tr>\n",
       "    <tr>\n",
       "      <th>groups</th>\n",
       "      <td>0.000000</td>\n",
       "    </tr>\n",
       "    <tr>\n",
       "      <th>albums</th>\n",
       "      <td>-0.000000</td>\n",
       "    </tr>\n",
       "    <tr>\n",
       "      <th>audios</th>\n",
       "      <td>0.000000</td>\n",
       "    </tr>\n",
       "    <tr>\n",
       "      <th>Info_count</th>\n",
       "      <td>0.000000</td>\n",
       "    </tr>\n",
       "    <tr>\n",
       "      <th>graduation_1</th>\n",
       "      <td>-0.000000</td>\n",
       "    </tr>\n",
       "    <tr>\n",
       "      <th>Birth_year</th>\n",
       "      <td>0.000000</td>\n",
       "    </tr>\n",
       "    <tr>\n",
       "      <th>online_mobile</th>\n",
       "      <td>0.000000</td>\n",
       "    </tr>\n",
       "    <tr>\n",
       "      <th>graduation</th>\n",
       "      <td>0.000000</td>\n",
       "    </tr>\n",
       "    <tr>\n",
       "      <th>city</th>\n",
       "      <td>0.000000</td>\n",
       "    </tr>\n",
       "    <tr>\n",
       "      <th>relation</th>\n",
       "      <td>-0.000000</td>\n",
       "    </tr>\n",
       "    <tr>\n",
       "      <th>platform</th>\n",
       "      <td>-0.000000</td>\n",
       "    </tr>\n",
       "    <tr>\n",
       "      <th>online</th>\n",
       "      <td>-0.000000</td>\n",
       "    </tr>\n",
       "    <tr>\n",
       "      <th>country_id</th>\n",
       "      <td>-0.000000</td>\n",
       "    </tr>\n",
       "    <tr>\n",
       "      <th>university</th>\n",
       "      <td>0.000000</td>\n",
       "    </tr>\n",
       "    <tr>\n",
       "      <th>can_post</th>\n",
       "      <td>0.004254</td>\n",
       "    </tr>\n",
       "    <tr>\n",
       "      <th>notes</th>\n",
       "      <td>0.004297</td>\n",
       "    </tr>\n",
       "    <tr>\n",
       "      <th>can_write_private_message</th>\n",
       "      <td>0.012892</td>\n",
       "    </tr>\n",
       "    <tr>\n",
       "      <th>videos</th>\n",
       "      <td>0.013413</td>\n",
       "    </tr>\n",
       "    <tr>\n",
       "      <th>online_app</th>\n",
       "      <td>0.021300</td>\n",
       "    </tr>\n",
       "    <tr>\n",
       "      <th>has_mobile</th>\n",
       "      <td>0.029083</td>\n",
       "    </tr>\n",
       "  </tbody>\n",
       "</table>\n",
       "</div>"
      ],
      "text/plain": [
       "                                  0\n",
       "photos                    -0.004746\n",
       "gifts                     -0.004393\n",
       "followers                 -0.001220\n",
       "can_see_all_posts          0.000000\n",
       "no_search                  0.000000\n",
       "duration                   0.000000\n",
       "user_videos               -0.000000\n",
       "groups                     0.000000\n",
       "albums                    -0.000000\n",
       "audios                     0.000000\n",
       "Info_count                 0.000000\n",
       "graduation_1              -0.000000\n",
       "Birth_year                 0.000000\n",
       "online_mobile              0.000000\n",
       "graduation                 0.000000\n",
       "city                       0.000000\n",
       "relation                  -0.000000\n",
       "platform                  -0.000000\n",
       "online                    -0.000000\n",
       "country_id                -0.000000\n",
       "university                 0.000000\n",
       "can_post                   0.004254\n",
       "notes                      0.004297\n",
       "can_write_private_message  0.012892\n",
       "videos                     0.013413\n",
       "online_app                 0.021300\n",
       "has_mobile                 0.029083"
      ]
     },
     "execution_count": 234,
     "metadata": {},
     "output_type": "execute_result"
    }
   ],
   "source": [
    "lasso1_coef = pd.DataFrame(lasso_small.coef_,index=X.columns)\n",
    "lasso1_coef.sort_values(0)"
   ]
  },
  {
   "cell_type": "markdown",
   "metadata": {},
   "source": [
    "Не отвалились только признаки photos, gifts, can_post, notes,can_write_private_message, videos, online_app, has_mobile т.е. регуляризация слишком сильная."
   ]
  },
  {
   "cell_type": "markdown",
   "metadata": {},
   "source": [
    "**Теперь определим лучшее значение $\\alpha$ в процессе кросс-валидации 5-кратной кросс-валидации. Используйте LassoCV и random_state=7.**"
   ]
  },
  {
   "cell_type": "code",
   "execution_count": 235,
   "metadata": {
    "collapsed": false
   },
   "outputs": [
    {
     "data": {
      "text/plain": [
       "10.0"
      ]
     },
     "execution_count": 235,
     "metadata": {},
     "output_type": "execute_result"
    }
   ],
   "source": [
    "import numpy as np\n",
    "alphas = np.linspace(0.1, 10, 200)\n",
    "lasso_cv = LassoCV(alphas=alphas, cv=5, random_state=7)\n",
    "lasso_cv.fit(X_train_scaled, y_train)\n",
    "lasso_cv.alpha_"
   ]
  },
  {
   "cell_type": "markdown",
   "metadata": {},
   "source": [
    "Лучшим получилось значение 10, но можно посмотреть еще и другие:"
   ]
  },
  {
   "cell_type": "code",
   "execution_count": 236,
   "metadata": {
    "collapsed": false
   },
   "outputs": [
    {
     "data": {
      "text/plain": [
       "15.0"
      ]
     },
     "execution_count": 236,
     "metadata": {},
     "output_type": "execute_result"
    }
   ],
   "source": [
    "alphas = np.linspace(10, 15, 20)\n",
    "lasso_cv = LassoCV(alphas=alphas, cv=5, random_state=7)\n",
    "lasso_cv.fit(X_train_scaled, y_train)\n",
    "lasso_cv.alpha_"
   ]
  },
  {
   "cell_type": "markdown",
   "metadata": {},
   "source": [
    "Оставим 15 таким образом"
   ]
  },
  {
   "cell_type": "code",
   "execution_count": 237,
   "metadata": {
    "collapsed": true
   },
   "outputs": [],
   "source": [
    "alpha_best = 15"
   ]
  },
  {
   "cell_type": "markdown",
   "metadata": {},
   "source": [
    "**Выведем коэффициенты \"лучшего\" Lasso в порядке убывания влияния на \"пол\". **"
   ]
  },
  {
   "cell_type": "code",
   "execution_count": 238,
   "metadata": {
    "collapsed": false
   },
   "outputs": [
    {
     "data": {
      "text/html": [
       "<div>\n",
       "<table border=\"1\" class=\"dataframe\">\n",
       "  <thead>\n",
       "    <tr style=\"text-align: right;\">\n",
       "      <th></th>\n",
       "      <th>0</th>\n",
       "    </tr>\n",
       "  </thead>\n",
       "  <tbody>\n",
       "    <tr>\n",
       "      <th>can_see_all_posts</th>\n",
       "      <td>0.0</td>\n",
       "    </tr>\n",
       "    <tr>\n",
       "      <th>no_search</th>\n",
       "      <td>0.0</td>\n",
       "    </tr>\n",
       "    <tr>\n",
       "      <th>duration</th>\n",
       "      <td>0.0</td>\n",
       "    </tr>\n",
       "    <tr>\n",
       "      <th>user_videos</th>\n",
       "      <td>-0.0</td>\n",
       "    </tr>\n",
       "    <tr>\n",
       "      <th>groups</th>\n",
       "      <td>0.0</td>\n",
       "    </tr>\n",
       "    <tr>\n",
       "      <th>gifts</th>\n",
       "      <td>-0.0</td>\n",
       "    </tr>\n",
       "    <tr>\n",
       "      <th>albums</th>\n",
       "      <td>-0.0</td>\n",
       "    </tr>\n",
       "    <tr>\n",
       "      <th>followers</th>\n",
       "      <td>-0.0</td>\n",
       "    </tr>\n",
       "    <tr>\n",
       "      <th>photos</th>\n",
       "      <td>-0.0</td>\n",
       "    </tr>\n",
       "    <tr>\n",
       "      <th>audios</th>\n",
       "      <td>0.0</td>\n",
       "    </tr>\n",
       "    <tr>\n",
       "      <th>notes</th>\n",
       "      <td>0.0</td>\n",
       "    </tr>\n",
       "    <tr>\n",
       "      <th>videos</th>\n",
       "      <td>0.0</td>\n",
       "    </tr>\n",
       "    <tr>\n",
       "      <th>Info_count</th>\n",
       "      <td>0.0</td>\n",
       "    </tr>\n",
       "    <tr>\n",
       "      <th>online_app</th>\n",
       "      <td>0.0</td>\n",
       "    </tr>\n",
       "    <tr>\n",
       "      <th>university</th>\n",
       "      <td>0.0</td>\n",
       "    </tr>\n",
       "    <tr>\n",
       "      <th>online_mobile</th>\n",
       "      <td>0.0</td>\n",
       "    </tr>\n",
       "    <tr>\n",
       "      <th>graduation</th>\n",
       "      <td>0.0</td>\n",
       "    </tr>\n",
       "    <tr>\n",
       "      <th>city</th>\n",
       "      <td>0.0</td>\n",
       "    </tr>\n",
       "    <tr>\n",
       "      <th>relation</th>\n",
       "      <td>-0.0</td>\n",
       "    </tr>\n",
       "    <tr>\n",
       "      <th>platform</th>\n",
       "      <td>-0.0</td>\n",
       "    </tr>\n",
       "    <tr>\n",
       "      <th>can_write_private_message</th>\n",
       "      <td>0.0</td>\n",
       "    </tr>\n",
       "    <tr>\n",
       "      <th>can_post</th>\n",
       "      <td>0.0</td>\n",
       "    </tr>\n",
       "    <tr>\n",
       "      <th>online</th>\n",
       "      <td>-0.0</td>\n",
       "    </tr>\n",
       "    <tr>\n",
       "      <th>country_id</th>\n",
       "      <td>-0.0</td>\n",
       "    </tr>\n",
       "    <tr>\n",
       "      <th>has_mobile</th>\n",
       "      <td>0.0</td>\n",
       "    </tr>\n",
       "    <tr>\n",
       "      <th>graduation_1</th>\n",
       "      <td>-0.0</td>\n",
       "    </tr>\n",
       "    <tr>\n",
       "      <th>Birth_year</th>\n",
       "      <td>0.0</td>\n",
       "    </tr>\n",
       "  </tbody>\n",
       "</table>\n",
       "</div>"
      ],
      "text/plain": [
       "                             0\n",
       "can_see_all_posts          0.0\n",
       "no_search                  0.0\n",
       "duration                   0.0\n",
       "user_videos               -0.0\n",
       "groups                     0.0\n",
       "gifts                     -0.0\n",
       "albums                    -0.0\n",
       "followers                 -0.0\n",
       "photos                    -0.0\n",
       "audios                     0.0\n",
       "notes                      0.0\n",
       "videos                     0.0\n",
       "Info_count                 0.0\n",
       "online_app                 0.0\n",
       "university                 0.0\n",
       "online_mobile              0.0\n",
       "graduation                 0.0\n",
       "city                       0.0\n",
       "relation                  -0.0\n",
       "platform                  -0.0\n",
       "can_write_private_message  0.0\n",
       "can_post                   0.0\n",
       "online                    -0.0\n",
       "country_id                -0.0\n",
       "has_mobile                 0.0\n",
       "graduation_1              -0.0\n",
       "Birth_year                 0.0"
      ]
     },
     "execution_count": 238,
     "metadata": {},
     "output_type": "execute_result"
    }
   ],
   "source": [
    "\n",
    "lasso2 = Lasso(alpha=alpha_best, random_state=7)\n",
    "lasso2.fit(X_train_scaled, y_train)\n",
    "lasso2_cv_coef = pd.DataFrame(lasso2.coef_,index=X.columns)\n",
    "lasso2_cv_coef.sort_values(0)"
   ]
  },
  {
   "cell_type": "markdown",
   "metadata": {},
   "source": [
    "Обнулилось сразу много признаков :("
   ]
  },
  {
   "cell_type": "markdown",
   "metadata": {},
   "source": [
    "**Оценим среднеквадратичную ошибку модели на обучающей и тестовой выборках.**"
   ]
  },
  {
   "cell_type": "code",
   "execution_count": 256,
   "metadata": {
    "collapsed": false
   },
   "outputs": [
    {
     "name": "stdout",
     "output_type": "stream",
     "text": [
      "MSE на обучающей, alpha=0.01:  0.253613471147\n"
     ]
    }
   ],
   "source": [
    "# на обучающей\n",
    "predicted_error_lasso1 = lasso_small.predict(X_train_scaled)\n",
    "print(\"MSE на обучающей, alpha=0.01: \", mean_squared_error (y_train, predicted_error_lasso1))\n"
   ]
  },
  {
   "cell_type": "code",
   "execution_count": 257,
   "metadata": {
    "collapsed": false
   },
   "outputs": [
    {
     "name": "stdout",
     "output_type": "stream",
     "text": [
      "MSE на обучающей, alpha=15:  0.25725649054\n"
     ]
    }
   ],
   "source": [
    "# на обучающей\n",
    "predicted_error_lasso2 = lasso2.predict(X_train_scaled)\n",
    "print(\"MSE на обучающей, alpha=15: \",mean_squared_error (y_train, predicted_error_lasso2))"
   ]
  },
  {
   "cell_type": "code",
   "execution_count": 258,
   "metadata": {
    "collapsed": false
   },
   "outputs": [
    {
     "name": "stdout",
     "output_type": "stream",
     "text": [
      "MSE на тестовой, alpha=0.01:  0.250856965063\n"
     ]
    }
   ],
   "source": [
    "# на тестовой \n",
    "predicted_error_lasso1 = lasso_small.predict(X_30_scaled)\n",
    "print(\"MSE на тестовой, alpha=0.01: \", mean_squared_error (y_30, predicted_error_lasso1))"
   ]
  },
  {
   "cell_type": "code",
   "execution_count": 259,
   "metadata": {
    "collapsed": false
   },
   "outputs": [
    {
     "name": "stdout",
     "output_type": "stream",
     "text": [
      "MSE на тестовой, alpha=15:  0.252970301456\n"
     ]
    }
   ],
   "source": [
    "# на тестовой \n",
    "predicted_error_lasso2 = lasso2.predict(X_30_scaled)\n",
    "print(\"MSE на тестовой, alpha=15: \", mean_squared_error (y_30, predicted_error_lasso2))"
   ]
  },
  {
   "cell_type": "markdown",
   "metadata": {},
   "source": [
    "Видим, что у lasso2 ошибка получилась побольше"
   ]
  },
  {
   "cell_type": "markdown",
   "metadata": {},
   "source": [
    "## Случайный лес"
   ]
  },
  {
   "cell_type": "markdown",
   "metadata": {},
   "source": [
    "**Обучим случайный лес с параметрами \"из коробки\", фиксируя только random_state=7.**"
   ]
  },
  {
   "cell_type": "code",
   "execution_count": 260,
   "metadata": {
    "collapsed": false
   },
   "outputs": [
    {
     "data": {
      "text/plain": [
       "RandomForestRegressor(bootstrap=True, criterion='mse', max_depth=None,\n",
       "           max_features='auto', max_leaf_nodes=None,\n",
       "           min_impurity_split=1e-07, min_samples_leaf=1,\n",
       "           min_samples_split=2, min_weight_fraction_leaf=0.0,\n",
       "           n_estimators=10, n_jobs=1, oob_score=False, random_state=7,\n",
       "           verbose=0, warm_start=False)"
      ]
     },
     "execution_count": 260,
     "metadata": {},
     "output_type": "execute_result"
    }
   ],
   "source": [
    "forest = RandomForestRegressor(random_state = 7)\n",
    "forest.fit(X_train_scaled, y_train)"
   ]
  },
  {
   "cell_type": "markdown",
   "metadata": {},
   "source": [
    "**Оценим среднеквадратичную ошибку модели на обучающей выборке, на кросс-валидации (cross_val_score с scoring='mean_squared_error' и остальными параметрами по умолчанию) и на оставленной выборке.**"
   ]
  },
  {
   "cell_type": "code",
   "execution_count": 261,
   "metadata": {
    "collapsed": false
   },
   "outputs": [
    {
     "name": "stdout",
     "output_type": "stream",
     "text": [
      "[-0.29244139 -0.27984814 -0.28002438 -0.28700284 -0.28329107]\n"
     ]
    },
    {
     "data": {
      "text/plain": [
       "-0.28452156538061052"
      ]
     },
     "execution_count": 261,
     "metadata": {},
     "output_type": "execute_result"
    }
   ],
   "source": [
    "# на обучающей\n",
    "n_folds = 5\n",
    "scores = cross_val_score(RandomForestRegressor(random_state = 7), X_train_scaled, y_train, \n",
    "                         scoring='mean_squared_error', cv=5)\n",
    "print(scores)\n",
    "scores.mean()"
   ]
  },
  {
   "cell_type": "code",
   "execution_count": 262,
   "metadata": {
    "collapsed": false
   },
   "outputs": [
    {
     "name": "stdout",
     "output_type": "stream",
     "text": [
      "[-0.306551   -0.29445278 -0.30179054 -0.28411664 -0.27271053]\n"
     ]
    },
    {
     "data": {
      "text/plain": [
       "-0.29192429782310325"
      ]
     },
     "execution_count": 262,
     "metadata": {},
     "output_type": "execute_result"
    }
   ],
   "source": [
    "# на тестовой\n",
    "n_folds = 5\n",
    "scores_test = cross_val_score(RandomForestRegressor(random_state = 7), X_30_scaled, y_30, \n",
    "                         scoring='mean_squared_error', cv=5)\n",
    "print(scores_test)\n",
    "scores_test.mean()"
   ]
  },
  {
   "cell_type": "markdown",
   "metadata": {},
   "source": [
    "Среднеквадратичная ошибка модели на обучающей выборке каждый раз меньше, чем на тестовой, т.е. на тестовой Performance хуже"
   ]
  },
  {
   "cell_type": "markdown",
   "metadata": {},
   "source": [
    "**Настроим параметры min_samples_leaf и max_depth с помощью GridSearchCV и опять проверим качество модели на кросс-валидации и на оставленной выборке.**"
   ]
  },
  {
   "cell_type": "code",
   "execution_count": 263,
   "metadata": {
    "collapsed": false
   },
   "outputs": [
    {
     "data": {
      "text/plain": [
       "{'max_depth': 15, 'min_samples_leaf': 7}"
      ]
     },
     "execution_count": 263,
     "metadata": {},
     "output_type": "execute_result"
    }
   ],
   "source": [
    "forest_params = {'max_depth': list(range(15, 20)), \n",
    "                 'min_samples_leaf': list(range(2, 8))}\n",
    "\n",
    "locally_best_forest = GridSearchCV(RandomForestRegressor(n_jobs=-1, random_state=7), \n",
    "                                 forest_params, \n",
    "                                 scoring='mean_squared_error',  \n",
    "                                 n_jobs=-1, cv=5)\n",
    "locally_best_forest.fit(X_train_scaled, y_train)\n",
    "clf_best_param = locally_best_forest.best_params_\n",
    "clf_best_param"
   ]
  },
  {
   "cell_type": "code",
   "execution_count": 264,
   "metadata": {
    "collapsed": false
   },
   "outputs": [
    {
     "name": "stdout",
     "output_type": "stream",
     "text": [
      "[-0.25534629 -0.24913857 -0.2540807  -0.2577819  -0.25374217]\n"
     ]
    },
    {
     "data": {
      "text/plain": [
       "-0.25401792658461436"
      ]
     },
     "execution_count": 264,
     "metadata": {},
     "output_type": "execute_result"
    }
   ],
   "source": [
    "# на обучающей\n",
    "n_folds = 5\n",
    "scores = cross_val_score(RandomForestRegressor(min_samples_leaf = 7, max_depth = 15,random_state = 7),\n",
    "                         X_train_scaled, y_train, \n",
    "                         scoring='mean_squared_error', cv=5)\n",
    "print(scores) \n",
    "scores.mean()"
   ]
  },
  {
   "cell_type": "code",
   "execution_count": 265,
   "metadata": {
    "collapsed": false
   },
   "outputs": [
    {
     "name": "stdout",
     "output_type": "stream",
     "text": [
      "[-0.26451206 -0.25694759 -0.25124547 -0.25180168 -0.24321394]\n"
     ]
    },
    {
     "data": {
      "text/plain": [
       "-0.25354414774485867"
      ]
     },
     "execution_count": 265,
     "metadata": {},
     "output_type": "execute_result"
    }
   ],
   "source": [
    "# на тестовой\n",
    "n_folds = 5\n",
    "scores_30 = cross_val_score(RandomForestRegressor(min_samples_leaf = 7, max_depth = 15,random_state = 7),\n",
    "                         X_30_scaled, y_30, \n",
    "                         scoring='mean_squared_error', cv=5)\n",
    "print(scores_30) \n",
    "scores_30.mean()"
   ]
  },
  {
   "cell_type": "code",
   "execution_count": 266,
   "metadata": {
    "collapsed": false
   },
   "outputs": [
    {
     "data": {
      "text/plain": [
       "RandomForestRegressor(bootstrap=True, criterion='mse', max_depth=None,\n",
       "           max_features='auto', max_leaf_nodes=None,\n",
       "           min_impurity_split=1e-07, min_samples_leaf=1,\n",
       "           min_samples_split=2, min_weight_fraction_leaf=0.0,\n",
       "           n_estimators=10, n_jobs=1, oob_score=False, random_state=7,\n",
       "           verbose=0, warm_start=False)"
      ]
     },
     "execution_count": 266,
     "metadata": {},
     "output_type": "execute_result"
    }
   ],
   "source": [
    "forest.fit(X_train_scaled, y_train)"
   ]
  },
  {
   "cell_type": "markdown",
   "metadata": {},
   "source": [
    "**Оценим важность признаков с помощью случайного леса.**"
   ]
  },
  {
   "cell_type": "code",
   "execution_count": 267,
   "metadata": {
    "collapsed": false
   },
   "outputs": [
    {
     "data": {
      "text/html": [
       "<div>\n",
       "<table border=\"1\" class=\"dataframe\">\n",
       "  <thead>\n",
       "    <tr style=\"text-align: right;\">\n",
       "      <th></th>\n",
       "      <th>Importance</th>\n",
       "    </tr>\n",
       "  </thead>\n",
       "  <tbody>\n",
       "    <tr>\n",
       "      <th>no_search</th>\n",
       "      <td>0.000000</td>\n",
       "    </tr>\n",
       "    <tr>\n",
       "      <th>online_mobile</th>\n",
       "      <td>0.000000</td>\n",
       "    </tr>\n",
       "    <tr>\n",
       "      <th>user_videos</th>\n",
       "      <td>0.000233</td>\n",
       "    </tr>\n",
       "    <tr>\n",
       "      <th>notes</th>\n",
       "      <td>0.002768</td>\n",
       "    </tr>\n",
       "    <tr>\n",
       "      <th>can_see_all_posts</th>\n",
       "      <td>0.004852</td>\n",
       "    </tr>\n",
       "    <tr>\n",
       "      <th>can_write_private_message</th>\n",
       "      <td>0.006515</td>\n",
       "    </tr>\n",
       "    <tr>\n",
       "      <th>online</th>\n",
       "      <td>0.008864</td>\n",
       "    </tr>\n",
       "    <tr>\n",
       "      <th>graduation_1</th>\n",
       "      <td>0.009386</td>\n",
       "    </tr>\n",
       "    <tr>\n",
       "      <th>duration</th>\n",
       "      <td>0.011582</td>\n",
       "    </tr>\n",
       "    <tr>\n",
       "      <th>can_post</th>\n",
       "      <td>0.011625</td>\n",
       "    </tr>\n",
       "    <tr>\n",
       "      <th>gifts</th>\n",
       "      <td>0.016896</td>\n",
       "    </tr>\n",
       "    <tr>\n",
       "      <th>graduation</th>\n",
       "      <td>0.018890</td>\n",
       "    </tr>\n",
       "    <tr>\n",
       "      <th>albums</th>\n",
       "      <td>0.023896</td>\n",
       "    </tr>\n",
       "    <tr>\n",
       "      <th>has_mobile</th>\n",
       "      <td>0.025142</td>\n",
       "    </tr>\n",
       "    <tr>\n",
       "      <th>city</th>\n",
       "      <td>0.027971</td>\n",
       "    </tr>\n",
       "    <tr>\n",
       "      <th>online_app</th>\n",
       "      <td>0.035790</td>\n",
       "    </tr>\n",
       "    <tr>\n",
       "      <th>videos</th>\n",
       "      <td>0.038597</td>\n",
       "    </tr>\n",
       "    <tr>\n",
       "      <th>university</th>\n",
       "      <td>0.046523</td>\n",
       "    </tr>\n",
       "    <tr>\n",
       "      <th>followers</th>\n",
       "      <td>0.049404</td>\n",
       "    </tr>\n",
       "    <tr>\n",
       "      <th>audios</th>\n",
       "      <td>0.052152</td>\n",
       "    </tr>\n",
       "    <tr>\n",
       "      <th>platform</th>\n",
       "      <td>0.052327</td>\n",
       "    </tr>\n",
       "    <tr>\n",
       "      <th>relation</th>\n",
       "      <td>0.068500</td>\n",
       "    </tr>\n",
       "    <tr>\n",
       "      <th>photos</th>\n",
       "      <td>0.076571</td>\n",
       "    </tr>\n",
       "    <tr>\n",
       "      <th>groups</th>\n",
       "      <td>0.079454</td>\n",
       "    </tr>\n",
       "    <tr>\n",
       "      <th>country_id</th>\n",
       "      <td>0.085187</td>\n",
       "    </tr>\n",
       "    <tr>\n",
       "      <th>Birth_year</th>\n",
       "      <td>0.121217</td>\n",
       "    </tr>\n",
       "    <tr>\n",
       "      <th>Info_count</th>\n",
       "      <td>0.125660</td>\n",
       "    </tr>\n",
       "  </tbody>\n",
       "</table>\n",
       "</div>"
      ],
      "text/plain": [
       "                           Importance\n",
       "no_search                    0.000000\n",
       "online_mobile                0.000000\n",
       "user_videos                  0.000233\n",
       "notes                        0.002768\n",
       "can_see_all_posts            0.004852\n",
       "can_write_private_message    0.006515\n",
       "online                       0.008864\n",
       "graduation_1                 0.009386\n",
       "duration                     0.011582\n",
       "can_post                     0.011625\n",
       "gifts                        0.016896\n",
       "graduation                   0.018890\n",
       "albums                       0.023896\n",
       "has_mobile                   0.025142\n",
       "city                         0.027971\n",
       "online_app                   0.035790\n",
       "videos                       0.038597\n",
       "university                   0.046523\n",
       "followers                    0.049404\n",
       "audios                       0.052152\n",
       "platform                     0.052327\n",
       "relation                     0.068500\n",
       "photos                       0.076571\n",
       "groups                       0.079454\n",
       "country_id                   0.085187\n",
       "Birth_year                   0.121217\n",
       "Info_count                   0.125660"
      ]
     },
     "execution_count": 267,
     "metadata": {},
     "output_type": "execute_result"
    }
   ],
   "source": [
    "best_forest = RandomForestRegressor(min_samples_leaf = 3, max_depth = 17, random_state = 7)\n",
    "best_forest.fit(X_train_scaled, y_train)\n",
    "best_forest_predictions = best_forest.predict(X_train_scaled)\n",
    "rf_importance = pd.DataFrame(best_forest.feature_importances_, index=X.columns,\n",
    "                        columns=['Importance']).sort(['Importance'], ascending=True)\n",
    "rf_importance"
   ]
  },
  {
   "cell_type": "code",
   "execution_count": 268,
   "metadata": {
    "collapsed": false
   },
   "outputs": [
    {
     "data": {
      "text/html": [
       "<div>\n",
       "<table border=\"1\" class=\"dataframe\">\n",
       "  <thead>\n",
       "    <tr style=\"text-align: right;\">\n",
       "      <th></th>\n",
       "      <th>Importance on test set</th>\n",
       "    </tr>\n",
       "  </thead>\n",
       "  <tbody>\n",
       "    <tr>\n",
       "      <th>can_see_all_posts</th>\n",
       "      <td>0.008460</td>\n",
       "    </tr>\n",
       "    <tr>\n",
       "      <th>has_mobile</th>\n",
       "      <td>0.029156</td>\n",
       "    </tr>\n",
       "    <tr>\n",
       "      <th>country_id</th>\n",
       "      <td>0.079996</td>\n",
       "    </tr>\n",
       "    <tr>\n",
       "      <th>online</th>\n",
       "      <td>0.006190</td>\n",
       "    </tr>\n",
       "    <tr>\n",
       "      <th>can_post</th>\n",
       "      <td>0.004270</td>\n",
       "    </tr>\n",
       "    <tr>\n",
       "      <th>can_write_private_message</th>\n",
       "      <td>0.005076</td>\n",
       "    </tr>\n",
       "    <tr>\n",
       "      <th>platform</th>\n",
       "      <td>0.050726</td>\n",
       "    </tr>\n",
       "    <tr>\n",
       "      <th>relation</th>\n",
       "      <td>0.073422</td>\n",
       "    </tr>\n",
       "    <tr>\n",
       "      <th>city</th>\n",
       "      <td>0.046154</td>\n",
       "    </tr>\n",
       "    <tr>\n",
       "      <th>graduation</th>\n",
       "      <td>0.005049</td>\n",
       "    </tr>\n",
       "    <tr>\n",
       "      <th>online_mobile</th>\n",
       "      <td>0.000000</td>\n",
       "    </tr>\n",
       "    <tr>\n",
       "      <th>university</th>\n",
       "      <td>0.032666</td>\n",
       "    </tr>\n",
       "    <tr>\n",
       "      <th>graduation_1</th>\n",
       "      <td>0.014099</td>\n",
       "    </tr>\n",
       "    <tr>\n",
       "      <th>online_app</th>\n",
       "      <td>0.034301</td>\n",
       "    </tr>\n",
       "    <tr>\n",
       "      <th>videos</th>\n",
       "      <td>0.045444</td>\n",
       "    </tr>\n",
       "    <tr>\n",
       "      <th>notes</th>\n",
       "      <td>0.000000</td>\n",
       "    </tr>\n",
       "    <tr>\n",
       "      <th>audios</th>\n",
       "      <td>0.066286</td>\n",
       "    </tr>\n",
       "    <tr>\n",
       "      <th>photos</th>\n",
       "      <td>0.092504</td>\n",
       "    </tr>\n",
       "    <tr>\n",
       "      <th>followers</th>\n",
       "      <td>0.031530</td>\n",
       "    </tr>\n",
       "    <tr>\n",
       "      <th>albums</th>\n",
       "      <td>0.017518</td>\n",
       "    </tr>\n",
       "    <tr>\n",
       "      <th>gifts</th>\n",
       "      <td>0.008679</td>\n",
       "    </tr>\n",
       "    <tr>\n",
       "      <th>groups</th>\n",
       "      <td>0.065276</td>\n",
       "    </tr>\n",
       "    <tr>\n",
       "      <th>user_videos</th>\n",
       "      <td>0.000000</td>\n",
       "    </tr>\n",
       "    <tr>\n",
       "      <th>duration</th>\n",
       "      <td>0.012132</td>\n",
       "    </tr>\n",
       "    <tr>\n",
       "      <th>no_search</th>\n",
       "      <td>0.000000</td>\n",
       "    </tr>\n",
       "    <tr>\n",
       "      <th>Info_count</th>\n",
       "      <td>0.131096</td>\n",
       "    </tr>\n",
       "    <tr>\n",
       "      <th>Birth_year</th>\n",
       "      <td>0.139969</td>\n",
       "    </tr>\n",
       "  </tbody>\n",
       "</table>\n",
       "</div>"
      ],
      "text/plain": [
       "                           Importance on test set\n",
       "can_see_all_posts                        0.008460\n",
       "has_mobile                               0.029156\n",
       "country_id                               0.079996\n",
       "online                                   0.006190\n",
       "can_post                                 0.004270\n",
       "can_write_private_message                0.005076\n",
       "platform                                 0.050726\n",
       "relation                                 0.073422\n",
       "city                                     0.046154\n",
       "graduation                               0.005049\n",
       "online_mobile                            0.000000\n",
       "university                               0.032666\n",
       "graduation_1                             0.014099\n",
       "online_app                               0.034301\n",
       "videos                                   0.045444\n",
       "notes                                    0.000000\n",
       "audios                                   0.066286\n",
       "photos                                   0.092504\n",
       "followers                                0.031530\n",
       "albums                                   0.017518\n",
       "gifts                                    0.008679\n",
       "groups                                   0.065276\n",
       "user_videos                              0.000000\n",
       "duration                                 0.012132\n",
       "no_search                                0.000000\n",
       "Info_count                               0.131096\n",
       "Birth_year                               0.139969"
      ]
     },
     "execution_count": 268,
     "metadata": {},
     "output_type": "execute_result"
    }
   ],
   "source": [
    "best_forest_30 = RandomForestRegressor(min_samples_leaf = 3, max_depth = 17, random_state = 7)\n",
    "best_forest_30.fit(X_30_scaled, y_30)\n",
    "best_forest_predictions_30 = best_forest_30.predict(X_30_scaled)\n",
    "rf_importance_30 = pd.DataFrame(best_forest_30.feature_importances_, index=X.columns,\n",
    "                        columns=['Importance on test set'])\n",
    "rf_importance_30"
   ]
  },
  {
   "cell_type": "code",
   "execution_count": 269,
   "metadata": {
    "collapsed": false
   },
   "outputs": [
    {
     "data": {
      "text/html": [
       "<div>\n",
       "<table border=\"1\" class=\"dataframe\">\n",
       "  <thead>\n",
       "    <tr style=\"text-align: right;\">\n",
       "      <th></th>\n",
       "      <th>Importance</th>\n",
       "      <th>Importance on test set</th>\n",
       "    </tr>\n",
       "  </thead>\n",
       "  <tbody>\n",
       "    <tr>\n",
       "      <th>can_see_all_posts</th>\n",
       "      <td>0.004852</td>\n",
       "      <td>0.008460</td>\n",
       "    </tr>\n",
       "    <tr>\n",
       "      <th>has_mobile</th>\n",
       "      <td>0.025142</td>\n",
       "      <td>0.029156</td>\n",
       "    </tr>\n",
       "    <tr>\n",
       "      <th>country_id</th>\n",
       "      <td>0.085187</td>\n",
       "      <td>0.079996</td>\n",
       "    </tr>\n",
       "    <tr>\n",
       "      <th>online</th>\n",
       "      <td>0.008864</td>\n",
       "      <td>0.006190</td>\n",
       "    </tr>\n",
       "    <tr>\n",
       "      <th>can_post</th>\n",
       "      <td>0.011625</td>\n",
       "      <td>0.004270</td>\n",
       "    </tr>\n",
       "    <tr>\n",
       "      <th>can_write_private_message</th>\n",
       "      <td>0.006515</td>\n",
       "      <td>0.005076</td>\n",
       "    </tr>\n",
       "    <tr>\n",
       "      <th>platform</th>\n",
       "      <td>0.052327</td>\n",
       "      <td>0.050726</td>\n",
       "    </tr>\n",
       "    <tr>\n",
       "      <th>relation</th>\n",
       "      <td>0.068500</td>\n",
       "      <td>0.073422</td>\n",
       "    </tr>\n",
       "    <tr>\n",
       "      <th>city</th>\n",
       "      <td>0.027971</td>\n",
       "      <td>0.046154</td>\n",
       "    </tr>\n",
       "    <tr>\n",
       "      <th>graduation</th>\n",
       "      <td>0.018890</td>\n",
       "      <td>0.005049</td>\n",
       "    </tr>\n",
       "    <tr>\n",
       "      <th>online_mobile</th>\n",
       "      <td>0.000000</td>\n",
       "      <td>0.000000</td>\n",
       "    </tr>\n",
       "    <tr>\n",
       "      <th>university</th>\n",
       "      <td>0.046523</td>\n",
       "      <td>0.032666</td>\n",
       "    </tr>\n",
       "    <tr>\n",
       "      <th>graduation_1</th>\n",
       "      <td>0.009386</td>\n",
       "      <td>0.014099</td>\n",
       "    </tr>\n",
       "    <tr>\n",
       "      <th>online_app</th>\n",
       "      <td>0.035790</td>\n",
       "      <td>0.034301</td>\n",
       "    </tr>\n",
       "    <tr>\n",
       "      <th>videos</th>\n",
       "      <td>0.038597</td>\n",
       "      <td>0.045444</td>\n",
       "    </tr>\n",
       "    <tr>\n",
       "      <th>notes</th>\n",
       "      <td>0.002768</td>\n",
       "      <td>0.000000</td>\n",
       "    </tr>\n",
       "    <tr>\n",
       "      <th>audios</th>\n",
       "      <td>0.052152</td>\n",
       "      <td>0.066286</td>\n",
       "    </tr>\n",
       "    <tr>\n",
       "      <th>photos</th>\n",
       "      <td>0.076571</td>\n",
       "      <td>0.092504</td>\n",
       "    </tr>\n",
       "    <tr>\n",
       "      <th>followers</th>\n",
       "      <td>0.049404</td>\n",
       "      <td>0.031530</td>\n",
       "    </tr>\n",
       "    <tr>\n",
       "      <th>albums</th>\n",
       "      <td>0.023896</td>\n",
       "      <td>0.017518</td>\n",
       "    </tr>\n",
       "    <tr>\n",
       "      <th>gifts</th>\n",
       "      <td>0.016896</td>\n",
       "      <td>0.008679</td>\n",
       "    </tr>\n",
       "    <tr>\n",
       "      <th>groups</th>\n",
       "      <td>0.079454</td>\n",
       "      <td>0.065276</td>\n",
       "    </tr>\n",
       "    <tr>\n",
       "      <th>user_videos</th>\n",
       "      <td>0.000233</td>\n",
       "      <td>0.000000</td>\n",
       "    </tr>\n",
       "    <tr>\n",
       "      <th>duration</th>\n",
       "      <td>0.011582</td>\n",
       "      <td>0.012132</td>\n",
       "    </tr>\n",
       "    <tr>\n",
       "      <th>no_search</th>\n",
       "      <td>0.000000</td>\n",
       "      <td>0.000000</td>\n",
       "    </tr>\n",
       "    <tr>\n",
       "      <th>Info_count</th>\n",
       "      <td>0.125660</td>\n",
       "      <td>0.131096</td>\n",
       "    </tr>\n",
       "    <tr>\n",
       "      <th>Birth_year</th>\n",
       "      <td>0.121217</td>\n",
       "      <td>0.139969</td>\n",
       "    </tr>\n",
       "  </tbody>\n",
       "</table>\n",
       "</div>"
      ],
      "text/plain": [
       "                           Importance  Importance on test set\n",
       "can_see_all_posts            0.004852                0.008460\n",
       "has_mobile                   0.025142                0.029156\n",
       "country_id                   0.085187                0.079996\n",
       "online                       0.008864                0.006190\n",
       "can_post                     0.011625                0.004270\n",
       "can_write_private_message    0.006515                0.005076\n",
       "platform                     0.052327                0.050726\n",
       "relation                     0.068500                0.073422\n",
       "city                         0.027971                0.046154\n",
       "graduation                   0.018890                0.005049\n",
       "online_mobile                0.000000                0.000000\n",
       "university                   0.046523                0.032666\n",
       "graduation_1                 0.009386                0.014099\n",
       "online_app                   0.035790                0.034301\n",
       "videos                       0.038597                0.045444\n",
       "notes                        0.002768                0.000000\n",
       "audios                       0.052152                0.066286\n",
       "photos                       0.076571                0.092504\n",
       "followers                    0.049404                0.031530\n",
       "albums                       0.023896                0.017518\n",
       "gifts                        0.016896                0.008679\n",
       "groups                       0.079454                0.065276\n",
       "user_videos                  0.000233                0.000000\n",
       "duration                     0.011582                0.012132\n",
       "no_search                    0.000000                0.000000\n",
       "Info_count                   0.125660                0.131096\n",
       "Birth_year                   0.121217                0.139969"
      ]
     },
     "execution_count": 269,
     "metadata": {},
     "output_type": "execute_result"
    }
   ],
   "source": [
    "rf_importance_all = pd.DataFrame(best_forest.feature_importances_, index=X.columns,\n",
    "                        columns=['Importance'])\n",
    "\n",
    "rf_importance_all['Importance on test set'] = pd.DataFrame(best_forest_30.feature_importances_, index=X.columns,\n",
    "                        columns=['Importance on test set'])\n",
    "rf_importance_all"
   ]
  },
  {
   "cell_type": "markdown",
   "metadata": {},
   "source": [
    "# <center>Линейная регрессия, Lasso и RF-регрессия в задаче возрастной классификации пользователей Вконтакте</center>"
   ]
  },
  {
   "cell_type": "markdown",
   "metadata": {},
   "source": [
    "**Теперь то же самое проделаем для определения возраста**"
   ]
  },
  {
   "cell_type": "code",
   "execution_count": 270,
   "metadata": {
    "collapsed": true
   },
   "outputs": [],
   "source": [
    "data2 = pd.read_csv(r'G:\\GICRL_Knowledge_Base\\достоверность_профилей\\для_выборки\\VK\\final_vkprofiles_data_regr3.csv', sep=';',  encoding='utf-8')"
   ]
  },
  {
   "cell_type": "code",
   "execution_count": 271,
   "metadata": {
    "collapsed": false
   },
   "outputs": [
    {
     "data": {
      "text/plain": [
       "<matplotlib.axes._subplots.AxesSubplot at 0x177baba8>"
      ]
     },
     "execution_count": 271,
     "metadata": {},
     "output_type": "execute_result"
    },
    {
     "data": {
      "image/png": "[encoded data removed]",
      "text/plain": [
       "<matplotlib.figure.Figure at 0x17a28da0>"
      ]
     },
     "metadata": {},
     "output_type": "display_data"
    }
   ],
   "source": [
    "def year_category(year):\n",
    "    return '1' if year < 1960\\\n",
    "            else '2' if year < 1971 \\\n",
    "            else '3' if year < 1981\\\n",
    "            else '4' if year < 1991\\\n",
    "            else '5' if year < 2001\\\n",
    "            else \"6\" if year < 2015\\\n",
    "            else '0'\n",
    "\n",
    "data2['Year_category'] = data2['Birth_year'].apply(year_category)\n",
    "sns.boxplot(x='Year_category', y='Info_count', data=data2)"
   ]
  },
  {
   "cell_type": "code",
   "execution_count": 272,
   "metadata": {
    "collapsed": true
   },
   "outputs": [],
   "source": [
    "X = data2\n",
    "y = data2['Year_category']\n",
    "\n",
    "X = X.drop(['Year_category'], axis=1) \n",
    "X = X.drop(['Birth_year'], axis=1) "
   ]
  },
  {
   "cell_type": "code",
   "execution_count": 273,
   "metadata": {
    "collapsed": true
   },
   "outputs": [],
   "source": [
    "X_train, X_30, y_train, y_30 = train_test_split(X, y, test_size=0.3, random_state=7)\n",
    "scaler = StandardScaler()\n",
    "X_train_scaled = scaler.fit_transform(X_train) \n",
    "X_30_scaled = scaler.transform(X_30)"
   ]
  },
  {
   "cell_type": "markdown",
   "metadata": {},
   "source": [
    "## Линейная регрессия"
   ]
  },
  {
   "cell_type": "code",
   "execution_count": 274,
   "metadata": {
    "collapsed": false
   },
   "outputs": [
    {
     "data": {
      "text/plain": [
       "LinearRegression(copy_X=True, fit_intercept=True, n_jobs=1, normalize=False)"
      ]
     },
     "execution_count": 274,
     "metadata": {},
     "output_type": "execute_result"
    }
   ],
   "source": [
    "linreg = LinearRegression()\n",
    "linreg.fit(X_train_scaled, y_train)"
   ]
  },
  {
   "cell_type": "markdown",
   "metadata": {},
   "source": [
    "**Оценим среднеквадратичную ошибку модели на обучающей и отложенной выборках.**"
   ]
  },
  {
   "cell_type": "code",
   "execution_count": 275,
   "metadata": {
    "collapsed": false
   },
   "outputs": [
    {
     "data": {
      "text/plain": [
       "0.6165801540543917"
      ]
     },
     "execution_count": 275,
     "metadata": {},
     "output_type": "execute_result"
    }
   ],
   "source": [
    "# на обучающей\n",
    "predicted_error = linreg.predict(X_train_scaled)\n",
    "mean_squared_error (y_train, predicted_error)"
   ]
  },
  {
   "cell_type": "code",
   "execution_count": 276,
   "metadata": {
    "collapsed": false
   },
   "outputs": [
    {
     "data": {
      "text/plain": [
       "0.66253563320480047"
      ]
     },
     "execution_count": 276,
     "metadata": {},
     "output_type": "execute_result"
    }
   ],
   "source": [
    "# на тестовой\n",
    "predicted_error_30 = linreg.predict(X_30_scaled)\n",
    "mean_squared_error (y_30, predicted_error_30)"
   ]
  },
  {
   "cell_type": "markdown",
   "metadata": {},
   "source": [
    "**Посмотрим на коэффициенты модели и отранжируем признаки по влиянию (большие по модулю отрицательные значения коэффициентов тоже говорят о сильном влиянии). Создайте для этого новый небольшой DataFrame.**"
   ]
  },
  {
   "cell_type": "code",
   "execution_count": 277,
   "metadata": {
    "collapsed": false
   },
   "outputs": [
    {
     "data": {
      "text/html": [
       "<div>\n",
       "<table border=\"1\" class=\"dataframe\">\n",
       "  <thead>\n",
       "    <tr style=\"text-align: right;\">\n",
       "      <th></th>\n",
       "      <th>0</th>\n",
       "    </tr>\n",
       "  </thead>\n",
       "  <tbody>\n",
       "    <tr>\n",
       "      <th>sex</th>\n",
       "      <td>-6.600925e+10</td>\n",
       "    </tr>\n",
       "    <tr>\n",
       "      <th>online_mobile</th>\n",
       "      <td>-1.109266e+06</td>\n",
       "    </tr>\n",
       "    <tr>\n",
       "      <th>platform</th>\n",
       "      <td>-6.653715e-02</td>\n",
       "    </tr>\n",
       "    <tr>\n",
       "      <th>relation</th>\n",
       "      <td>-4.742801e-02</td>\n",
       "    </tr>\n",
       "    <tr>\n",
       "      <th>graduation_1</th>\n",
       "      <td>-4.572678e-02</td>\n",
       "    </tr>\n",
       "    <tr>\n",
       "      <th>Info_count</th>\n",
       "      <td>-3.363037e-02</td>\n",
       "    </tr>\n",
       "    <tr>\n",
       "      <th>can_post</th>\n",
       "      <td>-3.219574e-02</td>\n",
       "    </tr>\n",
       "    <tr>\n",
       "      <th>online_app</th>\n",
       "      <td>-2.418041e-02</td>\n",
       "    </tr>\n",
       "    <tr>\n",
       "      <th>can_write_private_message</th>\n",
       "      <td>-2.123441e-02</td>\n",
       "    </tr>\n",
       "    <tr>\n",
       "      <th>country_id</th>\n",
       "      <td>-1.767234e-02</td>\n",
       "    </tr>\n",
       "    <tr>\n",
       "      <th>user_videos</th>\n",
       "      <td>-1.027417e-02</td>\n",
       "    </tr>\n",
       "    <tr>\n",
       "      <th>followers</th>\n",
       "      <td>-9.588718e-03</td>\n",
       "    </tr>\n",
       "    <tr>\n",
       "      <th>videos</th>\n",
       "      <td>-6.406784e-03</td>\n",
       "    </tr>\n",
       "    <tr>\n",
       "      <th>groups</th>\n",
       "      <td>-2.581596e-03</td>\n",
       "    </tr>\n",
       "    <tr>\n",
       "      <th>photos</th>\n",
       "      <td>-2.107143e-03</td>\n",
       "    </tr>\n",
       "    <tr>\n",
       "      <th>gifts</th>\n",
       "      <td>-1.356125e-03</td>\n",
       "    </tr>\n",
       "    <tr>\n",
       "      <th>no_search</th>\n",
       "      <td>0.000000e+00</td>\n",
       "    </tr>\n",
       "    <tr>\n",
       "      <th>notes</th>\n",
       "      <td>1.153946e-03</td>\n",
       "    </tr>\n",
       "    <tr>\n",
       "      <th>audios</th>\n",
       "      <td>1.014042e-02</td>\n",
       "    </tr>\n",
       "    <tr>\n",
       "      <th>has_mobile</th>\n",
       "      <td>1.229383e-02</td>\n",
       "    </tr>\n",
       "    <tr>\n",
       "      <th>duration</th>\n",
       "      <td>1.237872e-02</td>\n",
       "    </tr>\n",
       "    <tr>\n",
       "      <th>city</th>\n",
       "      <td>1.524836e-02</td>\n",
       "    </tr>\n",
       "    <tr>\n",
       "      <th>university</th>\n",
       "      <td>1.850653e-02</td>\n",
       "    </tr>\n",
       "    <tr>\n",
       "      <th>albums</th>\n",
       "      <td>2.820945e-02</td>\n",
       "    </tr>\n",
       "    <tr>\n",
       "      <th>online</th>\n",
       "      <td>3.180272e-02</td>\n",
       "    </tr>\n",
       "    <tr>\n",
       "      <th>can_see_all_posts</th>\n",
       "      <td>3.239271e-02</td>\n",
       "    </tr>\n",
       "    <tr>\n",
       "      <th>graduation</th>\n",
       "      <td>1.135015e-01</td>\n",
       "    </tr>\n",
       "    <tr>\n",
       "      <th>sex_num</th>\n",
       "      <td>6.600925e+10</td>\n",
       "    </tr>\n",
       "  </tbody>\n",
       "</table>\n",
       "</div>"
      ],
      "text/plain": [
       "                                      0\n",
       "sex                       -6.600925e+10\n",
       "online_mobile             -1.109266e+06\n",
       "platform                  -6.653715e-02\n",
       "relation                  -4.742801e-02\n",
       "graduation_1              -4.572678e-02\n",
       "Info_count                -3.363037e-02\n",
       "can_post                  -3.219574e-02\n",
       "online_app                -2.418041e-02\n",
       "can_write_private_message -2.123441e-02\n",
       "country_id                -1.767234e-02\n",
       "user_videos               -1.027417e-02\n",
       "followers                 -9.588718e-03\n",
       "videos                    -6.406784e-03\n",
       "groups                    -2.581596e-03\n",
       "photos                    -2.107143e-03\n",
       "gifts                     -1.356125e-03\n",
       "no_search                  0.000000e+00\n",
       "notes                      1.153946e-03\n",
       "audios                     1.014042e-02\n",
       "has_mobile                 1.229383e-02\n",
       "duration                   1.237872e-02\n",
       "city                       1.524836e-02\n",
       "university                 1.850653e-02\n",
       "albums                     2.820945e-02\n",
       "online                     3.180272e-02\n",
       "can_see_all_posts          3.239271e-02\n",
       "graduation                 1.135015e-01\n",
       "sex_num                    6.600925e+10"
      ]
     },
     "execution_count": 277,
     "metadata": {},
     "output_type": "execute_result"
    }
   ],
   "source": [
    "linreg_coef = pd.DataFrame(linreg.coef_,index=X.columns)\n",
    "linreg_coef.sort_values(0)"
   ]
  },
  {
   "cell_type": "markdown",
   "metadata": {},
   "source": [
    "## Lasso-регрессия"
   ]
  },
  {
   "cell_type": "markdown",
   "metadata": {},
   "source": [
    "**Обучим Lasso-регрессию с небольшим коэффициентом $\\alpha = 0.01$ (слабая регуляризация). Пусть опять random_state=7.**"
   ]
  },
  {
   "cell_type": "code",
   "execution_count": 278,
   "metadata": {
    "collapsed": false
   },
   "outputs": [
    {
     "data": {
      "text/plain": [
       "Lasso(alpha=0.01, copy_X=True, fit_intercept=True, max_iter=1000,\n",
       "   normalize=False, positive=False, precompute=False, random_state=7,\n",
       "   selection='cyclic', tol=0.0001, warm_start=False)"
      ]
     },
     "execution_count": 278,
     "metadata": {},
     "output_type": "execute_result"
    }
   ],
   "source": [
    "alpha = 0.01\n",
    "lasso_small = Lasso(alpha, random_state=7)\n",
    "lasso_small.fit(X_train_scaled, y_train)"
   ]
  },
  {
   "cell_type": "markdown",
   "metadata": {},
   "source": [
    "**Посмотрим на коэффициенты модели и отранжируйте признаки по влиянию на качество вина. Какой признак \"отвалился\" первым, то есть наименее важен для объяснения целевого признака в модели Lasso?**"
   ]
  },
  {
   "cell_type": "code",
   "execution_count": 279,
   "metadata": {
    "collapsed": false
   },
   "outputs": [
    {
     "data": {
      "text/html": [
       "<div>\n",
       "<table border=\"1\" class=\"dataframe\">\n",
       "  <thead>\n",
       "    <tr style=\"text-align: right;\">\n",
       "      <th></th>\n",
       "      <th>0</th>\n",
       "    </tr>\n",
       "  </thead>\n",
       "  <tbody>\n",
       "    <tr>\n",
       "      <th>platform</th>\n",
       "      <td>-0.052186</td>\n",
       "    </tr>\n",
       "    <tr>\n",
       "      <th>graduation_1</th>\n",
       "      <td>-0.042202</td>\n",
       "    </tr>\n",
       "    <tr>\n",
       "      <th>relation</th>\n",
       "      <td>-0.039850</td>\n",
       "    </tr>\n",
       "    <tr>\n",
       "      <th>can_post</th>\n",
       "      <td>-0.023437</td>\n",
       "    </tr>\n",
       "    <tr>\n",
       "      <th>Info_count</th>\n",
       "      <td>-0.022721</td>\n",
       "    </tr>\n",
       "    <tr>\n",
       "      <th>online_app</th>\n",
       "      <td>-0.009048</td>\n",
       "    </tr>\n",
       "    <tr>\n",
       "      <th>country_id</th>\n",
       "      <td>-0.007051</td>\n",
       "    </tr>\n",
       "    <tr>\n",
       "      <th>can_write_private_message</th>\n",
       "      <td>-0.006704</td>\n",
       "    </tr>\n",
       "    <tr>\n",
       "      <th>followers</th>\n",
       "      <td>-0.002504</td>\n",
       "    </tr>\n",
       "    <tr>\n",
       "      <th>user_videos</th>\n",
       "      <td>-0.000490</td>\n",
       "    </tr>\n",
       "    <tr>\n",
       "      <th>groups</th>\n",
       "      <td>-0.000000</td>\n",
       "    </tr>\n",
       "    <tr>\n",
       "      <th>no_search</th>\n",
       "      <td>0.000000</td>\n",
       "    </tr>\n",
       "    <tr>\n",
       "      <th>notes</th>\n",
       "      <td>-0.000000</td>\n",
       "    </tr>\n",
       "    <tr>\n",
       "      <th>gifts</th>\n",
       "      <td>-0.000000</td>\n",
       "    </tr>\n",
       "    <tr>\n",
       "      <th>online_mobile</th>\n",
       "      <td>0.000000</td>\n",
       "    </tr>\n",
       "    <tr>\n",
       "      <th>photos</th>\n",
       "      <td>-0.000000</td>\n",
       "    </tr>\n",
       "    <tr>\n",
       "      <th>videos</th>\n",
       "      <td>-0.000000</td>\n",
       "    </tr>\n",
       "    <tr>\n",
       "      <th>audios</th>\n",
       "      <td>0.000000</td>\n",
       "    </tr>\n",
       "    <tr>\n",
       "      <th>sex_num</th>\n",
       "      <td>0.000091</td>\n",
       "    </tr>\n",
       "    <tr>\n",
       "      <th>sex</th>\n",
       "      <td>0.000902</td>\n",
       "    </tr>\n",
       "    <tr>\n",
       "      <th>duration</th>\n",
       "      <td>0.001778</td>\n",
       "    </tr>\n",
       "    <tr>\n",
       "      <th>has_mobile</th>\n",
       "      <td>0.003853</td>\n",
       "    </tr>\n",
       "    <tr>\n",
       "      <th>city</th>\n",
       "      <td>0.004346</td>\n",
       "    </tr>\n",
       "    <tr>\n",
       "      <th>university</th>\n",
       "      <td>0.007839</td>\n",
       "    </tr>\n",
       "    <tr>\n",
       "      <th>albums</th>\n",
       "      <td>0.010193</td>\n",
       "    </tr>\n",
       "    <tr>\n",
       "      <th>can_see_all_posts</th>\n",
       "      <td>0.018846</td>\n",
       "    </tr>\n",
       "    <tr>\n",
       "      <th>online</th>\n",
       "      <td>0.020049</td>\n",
       "    </tr>\n",
       "    <tr>\n",
       "      <th>graduation</th>\n",
       "      <td>0.106388</td>\n",
       "    </tr>\n",
       "  </tbody>\n",
       "</table>\n",
       "</div>"
      ],
      "text/plain": [
       "                                  0\n",
       "platform                  -0.052186\n",
       "graduation_1              -0.042202\n",
       "relation                  -0.039850\n",
       "can_post                  -0.023437\n",
       "Info_count                -0.022721\n",
       "online_app                -0.009048\n",
       "country_id                -0.007051\n",
       "can_write_private_message -0.006704\n",
       "followers                 -0.002504\n",
       "user_videos               -0.000490\n",
       "groups                    -0.000000\n",
       "no_search                  0.000000\n",
       "notes                     -0.000000\n",
       "gifts                     -0.000000\n",
       "online_mobile              0.000000\n",
       "photos                    -0.000000\n",
       "videos                    -0.000000\n",
       "audios                     0.000000\n",
       "sex_num                    0.000091\n",
       "sex                        0.000902\n",
       "duration                   0.001778\n",
       "has_mobile                 0.003853\n",
       "city                       0.004346\n",
       "university                 0.007839\n",
       "albums                     0.010193\n",
       "can_see_all_posts          0.018846\n",
       "online                     0.020049\n",
       "graduation                 0.106388"
      ]
     },
     "execution_count": 279,
     "metadata": {},
     "output_type": "execute_result"
    }
   ],
   "source": [
    "lasso1_coef = pd.DataFrame(lasso_small.coef_,index=X.columns)\n",
    "lasso1_coef.sort_values(0)"
   ]
  },
  {
   "cell_type": "markdown",
   "metadata": {},
   "source": [
    "**Теперь определим лучшее значение $\\alpha$ в процессе кросс-валидации 5-кратной кросс-валидации. Используйте LassoCV и random_state=7.**"
   ]
  },
  {
   "cell_type": "code",
   "execution_count": 280,
   "metadata": {
    "collapsed": false
   },
   "outputs": [
    {
     "data": {
      "text/plain": [
       "0.10000000000000001"
      ]
     },
     "execution_count": 280,
     "metadata": {},
     "output_type": "execute_result"
    }
   ],
   "source": [
    "import numpy as np\n",
    "alphas = np.linspace(0.1, 10, 200)\n",
    "lasso_cv = LassoCV(alphas=alphas, cv=5, random_state=7)\n",
    "lasso_cv.fit(X_train_scaled, y_train)\n",
    "lasso_cv.alpha_"
   ]
  },
  {
   "cell_type": "markdown",
   "metadata": {},
   "source": [
    "Лучшим получилось значение 0.1, но можно посмотреть еще и другие:"
   ]
  },
  {
   "cell_type": "code",
   "execution_count": 281,
   "metadata": {
    "collapsed": false
   },
   "outputs": [
    {
     "data": {
      "text/plain": [
       "0.02"
      ]
     },
     "execution_count": 281,
     "metadata": {},
     "output_type": "execute_result"
    }
   ],
   "source": [
    "alphas = np.linspace(0.02, 0.05, 1)\n",
    "lasso_cv = LassoCV(alphas=alphas, cv=5, random_state=7)\n",
    "lasso_cv.fit(X_train_scaled, y_train)\n",
    "lasso_cv.alpha_"
   ]
  },
  {
   "cell_type": "markdown",
   "metadata": {},
   "source": [
    "Оставим 0.02"
   ]
  },
  {
   "cell_type": "code",
   "execution_count": 282,
   "metadata": {
    "collapsed": true
   },
   "outputs": [],
   "source": [
    "alpha_best = 0.02"
   ]
  },
  {
   "cell_type": "code",
   "execution_count": 283,
   "metadata": {
    "collapsed": false
   },
   "outputs": [
    {
     "data": {
      "text/html": [
       "<div>\n",
       "<table border=\"1\" class=\"dataframe\">\n",
       "  <thead>\n",
       "    <tr style=\"text-align: right;\">\n",
       "      <th></th>\n",
       "      <th>0</th>\n",
       "    </tr>\n",
       "  </thead>\n",
       "  <tbody>\n",
       "    <tr>\n",
       "      <th>platform</th>\n",
       "      <td>-0.039891</td>\n",
       "    </tr>\n",
       "    <tr>\n",
       "      <th>graduation_1</th>\n",
       "      <td>-0.038692</td>\n",
       "    </tr>\n",
       "    <tr>\n",
       "      <th>relation</th>\n",
       "      <td>-0.031797</td>\n",
       "    </tr>\n",
       "    <tr>\n",
       "      <th>can_post</th>\n",
       "      <td>-0.014373</td>\n",
       "    </tr>\n",
       "    <tr>\n",
       "      <th>Info_count</th>\n",
       "      <td>-0.014083</td>\n",
       "    </tr>\n",
       "    <tr>\n",
       "      <th>no_search</th>\n",
       "      <td>0.000000</td>\n",
       "    </tr>\n",
       "    <tr>\n",
       "      <th>duration</th>\n",
       "      <td>0.000000</td>\n",
       "    </tr>\n",
       "    <tr>\n",
       "      <th>user_videos</th>\n",
       "      <td>-0.000000</td>\n",
       "    </tr>\n",
       "    <tr>\n",
       "      <th>groups</th>\n",
       "      <td>-0.000000</td>\n",
       "    </tr>\n",
       "    <tr>\n",
       "      <th>gifts</th>\n",
       "      <td>-0.000000</td>\n",
       "    </tr>\n",
       "    <tr>\n",
       "      <th>albums</th>\n",
       "      <td>0.000000</td>\n",
       "    </tr>\n",
       "    <tr>\n",
       "      <th>followers</th>\n",
       "      <td>-0.000000</td>\n",
       "    </tr>\n",
       "    <tr>\n",
       "      <th>photos</th>\n",
       "      <td>0.000000</td>\n",
       "    </tr>\n",
       "    <tr>\n",
       "      <th>audios</th>\n",
       "      <td>0.000000</td>\n",
       "    </tr>\n",
       "    <tr>\n",
       "      <th>notes</th>\n",
       "      <td>-0.000000</td>\n",
       "    </tr>\n",
       "    <tr>\n",
       "      <th>sex_num</th>\n",
       "      <td>0.000000</td>\n",
       "    </tr>\n",
       "    <tr>\n",
       "      <th>online_app</th>\n",
       "      <td>-0.000000</td>\n",
       "    </tr>\n",
       "    <tr>\n",
       "      <th>university</th>\n",
       "      <td>0.000000</td>\n",
       "    </tr>\n",
       "    <tr>\n",
       "      <th>online_mobile</th>\n",
       "      <td>0.000000</td>\n",
       "    </tr>\n",
       "    <tr>\n",
       "      <th>city</th>\n",
       "      <td>0.000000</td>\n",
       "    </tr>\n",
       "    <tr>\n",
       "      <th>can_write_private_message</th>\n",
       "      <td>-0.000000</td>\n",
       "    </tr>\n",
       "    <tr>\n",
       "      <th>sex</th>\n",
       "      <td>0.000000</td>\n",
       "    </tr>\n",
       "    <tr>\n",
       "      <th>country_id</th>\n",
       "      <td>-0.000000</td>\n",
       "    </tr>\n",
       "    <tr>\n",
       "      <th>has_mobile</th>\n",
       "      <td>0.000000</td>\n",
       "    </tr>\n",
       "    <tr>\n",
       "      <th>videos</th>\n",
       "      <td>-0.000000</td>\n",
       "    </tr>\n",
       "    <tr>\n",
       "      <th>can_see_all_posts</th>\n",
       "      <td>0.007685</td>\n",
       "    </tr>\n",
       "    <tr>\n",
       "      <th>online</th>\n",
       "      <td>0.008853</td>\n",
       "    </tr>\n",
       "    <tr>\n",
       "      <th>graduation</th>\n",
       "      <td>0.099122</td>\n",
       "    </tr>\n",
       "  </tbody>\n",
       "</table>\n",
       "</div>"
      ],
      "text/plain": [
       "                                  0\n",
       "platform                  -0.039891\n",
       "graduation_1              -0.038692\n",
       "relation                  -0.031797\n",
       "can_post                  -0.014373\n",
       "Info_count                -0.014083\n",
       "no_search                  0.000000\n",
       "duration                   0.000000\n",
       "user_videos               -0.000000\n",
       "groups                    -0.000000\n",
       "gifts                     -0.000000\n",
       "albums                     0.000000\n",
       "followers                 -0.000000\n",
       "photos                     0.000000\n",
       "audios                     0.000000\n",
       "notes                     -0.000000\n",
       "sex_num                    0.000000\n",
       "online_app                -0.000000\n",
       "university                 0.000000\n",
       "online_mobile              0.000000\n",
       "city                       0.000000\n",
       "can_write_private_message -0.000000\n",
       "sex                        0.000000\n",
       "country_id                -0.000000\n",
       "has_mobile                 0.000000\n",
       "videos                    -0.000000\n",
       "can_see_all_posts          0.007685\n",
       "online                     0.008853\n",
       "graduation                 0.099122"
      ]
     },
     "execution_count": 283,
     "metadata": {},
     "output_type": "execute_result"
    }
   ],
   "source": [
    "lasso2 = Lasso(alpha=alpha_best, random_state=7)\n",
    "lasso2.fit(X_train_scaled, y_train)\n",
    "lasso2_cv_coef = pd.DataFrame(lasso2.coef_,index=X.columns)\n",
    "lasso2_cv_coef.sort_values(0)"
   ]
  },
  {
   "cell_type": "markdown",
   "metadata": {},
   "source": [
    "**Оценим среднеквадратичную ошибку модели на обучающей и тестовой выборках.**"
   ]
  },
  {
   "cell_type": "code",
   "execution_count": 284,
   "metadata": {
    "collapsed": false
   },
   "outputs": [
    {
     "name": "stdout",
     "output_type": "stream",
     "text": [
      "MSE на обучающей, alpha=0.01:  0.618685038832\n"
     ]
    }
   ],
   "source": [
    "# на обучающей\n",
    "predicted_error_lasso1 = lasso_small.predict(X_train_scaled)\n",
    "print(\"MSE на обучающей, alpha=0.01: \", mean_squared_error (y_train, predicted_error_lasso1))"
   ]
  },
  {
   "cell_type": "code",
   "execution_count": 285,
   "metadata": {
    "collapsed": false
   },
   "outputs": [
    {
     "name": "stdout",
     "output_type": "stream",
     "text": [
      "MSE на обучающей, alpha=0.02:  0.622177329872\n"
     ]
    }
   ],
   "source": [
    "# на обучающей\n",
    "predicted_error_lasso2 = lasso2.predict(X_train_scaled)\n",
    "print(\"MSE на обучающей, alpha=0.02: \", mean_squared_error (y_train, predicted_error_lasso2))"
   ]
  },
  {
   "cell_type": "code",
   "execution_count": 286,
   "metadata": {
    "collapsed": false
   },
   "outputs": [
    {
     "name": "stdout",
     "output_type": "stream",
     "text": [
      "MSE на тестовой, alpha=0.01:  0.664559205796\n"
     ]
    }
   ],
   "source": [
    "# на тестовой \n",
    "predicted_error_lasso1 = lasso_small.predict(X_30_scaled)\n",
    "print(\"MSE на тестовой, alpha=0.01: \", mean_squared_error (y_30, predicted_error_lasso1))"
   ]
  },
  {
   "cell_type": "code",
   "execution_count": 287,
   "metadata": {
    "collapsed": false
   },
   "outputs": [
    {
     "name": "stdout",
     "output_type": "stream",
     "text": [
      "MSE на тестовой, alpha=0.02:  0.668581842693\n"
     ]
    }
   ],
   "source": [
    "# на тестовой \n",
    "predicted_error_lasso2 = lasso2.predict(X_30_scaled)\n",
    "print(\"MSE на тестовой, alpha=0.02: \", mean_squared_error (y_30, predicted_error_lasso2))"
   ]
  },
  {
   "cell_type": "markdown",
   "metadata": {},
   "source": [
    "С lasso возрастная классификация пока не очень получилась, попробуем случайный лес"
   ]
  },
  {
   "cell_type": "markdown",
   "metadata": {},
   "source": [
    "## Случайный лес"
   ]
  },
  {
   "cell_type": "markdown",
   "metadata": {},
   "source": [
    "**Обучим случайный лес с параметрами \"из коробки\", фиксируя только random_state=7.**"
   ]
  },
  {
   "cell_type": "code",
   "execution_count": 288,
   "metadata": {
    "collapsed": false
   },
   "outputs": [
    {
     "data": {
      "text/plain": [
       "RandomForestRegressor(bootstrap=True, criterion='mse', max_depth=None,\n",
       "           max_features='auto', max_leaf_nodes=None,\n",
       "           min_impurity_split=1e-07, min_samples_leaf=1,\n",
       "           min_samples_split=2, min_weight_fraction_leaf=0.0,\n",
       "           n_estimators=10, n_jobs=1, oob_score=False, random_state=7,\n",
       "           verbose=0, warm_start=False)"
      ]
     },
     "execution_count": 288,
     "metadata": {},
     "output_type": "execute_result"
    }
   ],
   "source": [
    "forest = RandomForestRegressor(random_state = 7)\n",
    "forest.fit(X_train_scaled, y_train)"
   ]
  },
  {
   "cell_type": "markdown",
   "metadata": {},
   "source": [
    "**Оценим среднеквадратичную ошибку модели на обучающей выборке, на кросс-валидации (cross_val_score с scoring='mean_squared_error' и остальными параметрами по умолчанию) и на оставленной выборке.**"
   ]
  },
  {
   "cell_type": "code",
   "execution_count": 289,
   "metadata": {
    "collapsed": false
   },
   "outputs": [
    {
     "name": "stdout",
     "output_type": "stream",
     "text": [
      "[-0.61442702 -0.76353412 -0.74438894 -0.66724185 -0.69275008]\n"
     ]
    },
    {
     "data": {
      "text/plain": [
       "-0.69646840272119859"
      ]
     },
     "execution_count": 289,
     "metadata": {},
     "output_type": "execute_result"
    }
   ],
   "source": [
    "# на обучающей\n",
    "n_folds = 5\n",
    "scores = cross_val_score(RandomForestRegressor(random_state = 7), X_train_scaled, y_train, \n",
    "                         scoring='mean_squared_error', cv=5)\n",
    "print(scores)\n",
    "scores.mean()"
   ]
  },
  {
   "cell_type": "code",
   "execution_count": 290,
   "metadata": {
    "collapsed": false
   },
   "outputs": [
    {
     "name": "stdout",
     "output_type": "stream",
     "text": [
      "[-0.82134944 -0.84598508 -0.76526036 -0.6933724  -0.8281589 ]\n"
     ]
    },
    {
     "data": {
      "text/plain": [
       "-0.79082523624061074"
      ]
     },
     "execution_count": 290,
     "metadata": {},
     "output_type": "execute_result"
    }
   ],
   "source": [
    "# на тестовой\n",
    "n_folds = 5\n",
    "scores_test = cross_val_score(RandomForestRegressor(random_state = 7), X_30_scaled, y_30, \n",
    "                         scoring='mean_squared_error', cv=5)\n",
    "print(scores_test)\n",
    "scores_test.mean()"
   ]
  },
  {
   "cell_type": "markdown",
   "metadata": {},
   "source": [
    "Ну что же, из коробки получилось еще хуже. Настроим параметры"
   ]
  },
  {
   "cell_type": "markdown",
   "metadata": {},
   "source": [
    "**Настроим параметры min_samples_leaf и max_depth с помощью GridSearchCV и опять проверим качество модели на кросс-валидации и на оставленной выборке.**"
   ]
  },
  {
   "cell_type": "code",
   "execution_count": 291,
   "metadata": {
    "collapsed": false
   },
   "outputs": [
    {
     "data": {
      "text/plain": [
       "{'max_depth': 15, 'min_samples_leaf': 7}"
      ]
     },
     "execution_count": 291,
     "metadata": {},
     "output_type": "execute_result"
    }
   ],
   "source": [
    "forest_params = {'max_depth': list(range(15, 20)), \n",
    "                 'min_samples_leaf': list(range(2, 8))}\n",
    "\n",
    "locally_best_forest = GridSearchCV(RandomForestRegressor(n_jobs=-1, random_state=7), \n",
    "                                 forest_params, \n",
    "                                 scoring='mean_squared_error',  \n",
    "                                 n_jobs=-1, cv=5)\n",
    "locally_best_forest.fit(X_train_scaled, y_train)\n",
    "clf_best_param = locally_best_forest.best_params_\n",
    "clf_best_param"
   ]
  },
  {
   "cell_type": "code",
   "execution_count": 292,
   "metadata": {
    "collapsed": false
   },
   "outputs": [
    {
     "name": "stdout",
     "output_type": "stream",
     "text": [
      "[-0.49327046 -0.61172409 -0.6046017  -0.59338384 -0.64279474]\n"
     ]
    },
    {
     "data": {
      "text/plain": [
       "-0.58915496568488768"
      ]
     },
     "execution_count": 292,
     "metadata": {},
     "output_type": "execute_result"
    }
   ],
   "source": [
    "# на обучающей\n",
    "n_folds = 5\n",
    "scores = cross_val_score(RandomForestRegressor(min_samples_leaf = 7, max_depth = 15,random_state = 7),\n",
    "                         X_train_scaled, y_train, \n",
    "                         scoring='mean_squared_error', cv=5)\n",
    "print(scores) \n",
    "scores.mean()"
   ]
  },
  {
   "cell_type": "code",
   "execution_count": 293,
   "metadata": {
    "collapsed": false
   },
   "outputs": [
    {
     "name": "stdout",
     "output_type": "stream",
     "text": [
      "[-0.72161956 -0.69809848 -0.56406306 -0.62552908 -0.62924806]\n"
     ]
    },
    {
     "data": {
      "text/plain": [
       "-0.6477116489382001"
      ]
     },
     "execution_count": 293,
     "metadata": {},
     "output_type": "execute_result"
    }
   ],
   "source": [
    "# на тестовой\n",
    "n_folds = 5\n",
    "scores_30 = cross_val_score(RandomForestRegressor(min_samples_leaf = 7, max_depth = 15,random_state = 7),\n",
    "                         X_30_scaled, y_30, \n",
    "                         scoring='mean_squared_error', cv=5)\n",
    "print(scores_30) \n",
    "scores_30.mean()"
   ]
  },
  {
   "cell_type": "code",
   "execution_count": 294,
   "metadata": {
    "collapsed": false
   },
   "outputs": [
    {
     "data": {
      "text/plain": [
       "RandomForestRegressor(bootstrap=True, criterion='mse', max_depth=None,\n",
       "           max_features='auto', max_leaf_nodes=None,\n",
       "           min_impurity_split=1e-07, min_samples_leaf=1,\n",
       "           min_samples_split=2, min_weight_fraction_leaf=0.0,\n",
       "           n_estimators=10, n_jobs=1, oob_score=False, random_state=7,\n",
       "           verbose=0, warm_start=False)"
      ]
     },
     "execution_count": 294,
     "metadata": {},
     "output_type": "execute_result"
    }
   ],
   "source": [
    "forest.fit(X_train_scaled, y_train)"
   ]
  },
  {
   "cell_type": "markdown",
   "metadata": {},
   "source": [
    "**Оценим важность признаков с помощью случайного леса.**"
   ]
  },
  {
   "cell_type": "code",
   "execution_count": 295,
   "metadata": {
    "collapsed": false
   },
   "outputs": [
    {
     "data": {
      "text/html": [
       "<div>\n",
       "<table border=\"1\" class=\"dataframe\">\n",
       "  <thead>\n",
       "    <tr style=\"text-align: right;\">\n",
       "      <th></th>\n",
       "      <th>Importance</th>\n",
       "    </tr>\n",
       "  </thead>\n",
       "  <tbody>\n",
       "    <tr>\n",
       "      <th>no_search</th>\n",
       "      <td>0.000000</td>\n",
       "    </tr>\n",
       "    <tr>\n",
       "      <th>online_mobile</th>\n",
       "      <td>0.000000</td>\n",
       "    </tr>\n",
       "    <tr>\n",
       "      <th>notes</th>\n",
       "      <td>0.000584</td>\n",
       "    </tr>\n",
       "    <tr>\n",
       "      <th>user_videos</th>\n",
       "      <td>0.001917</td>\n",
       "    </tr>\n",
       "    <tr>\n",
       "      <th>can_write_private_message</th>\n",
       "      <td>0.002247</td>\n",
       "    </tr>\n",
       "    <tr>\n",
       "      <th>has_mobile</th>\n",
       "      <td>0.005408</td>\n",
       "    </tr>\n",
       "    <tr>\n",
       "      <th>duration</th>\n",
       "      <td>0.007851</td>\n",
       "    </tr>\n",
       "    <tr>\n",
       "      <th>albums</th>\n",
       "      <td>0.009437</td>\n",
       "    </tr>\n",
       "    <tr>\n",
       "      <th>can_post</th>\n",
       "      <td>0.009891</td>\n",
       "    </tr>\n",
       "    <tr>\n",
       "      <th>can_see_all_posts</th>\n",
       "      <td>0.010036</td>\n",
       "    </tr>\n",
       "    <tr>\n",
       "      <th>online</th>\n",
       "      <td>0.013960</td>\n",
       "    </tr>\n",
       "    <tr>\n",
       "      <th>graduation_1</th>\n",
       "      <td>0.013971</td>\n",
       "    </tr>\n",
       "    <tr>\n",
       "      <th>gifts</th>\n",
       "      <td>0.013992</td>\n",
       "    </tr>\n",
       "    <tr>\n",
       "      <th>videos</th>\n",
       "      <td>0.018660</td>\n",
       "    </tr>\n",
       "    <tr>\n",
       "      <th>sex</th>\n",
       "      <td>0.023428</td>\n",
       "    </tr>\n",
       "    <tr>\n",
       "      <th>sex_num</th>\n",
       "      <td>0.029916</td>\n",
       "    </tr>\n",
       "    <tr>\n",
       "      <th>audios</th>\n",
       "      <td>0.033331</td>\n",
       "    </tr>\n",
       "    <tr>\n",
       "      <th>followers</th>\n",
       "      <td>0.033815</td>\n",
       "    </tr>\n",
       "    <tr>\n",
       "      <th>online_app</th>\n",
       "      <td>0.037466</td>\n",
       "    </tr>\n",
       "    <tr>\n",
       "      <th>photos</th>\n",
       "      <td>0.040247</td>\n",
       "    </tr>\n",
       "    <tr>\n",
       "      <th>groups</th>\n",
       "      <td>0.041815</td>\n",
       "    </tr>\n",
       "    <tr>\n",
       "      <th>city</th>\n",
       "      <td>0.041978</td>\n",
       "    </tr>\n",
       "    <tr>\n",
       "      <th>university</th>\n",
       "      <td>0.046681</td>\n",
       "    </tr>\n",
       "    <tr>\n",
       "      <th>platform</th>\n",
       "      <td>0.048953</td>\n",
       "    </tr>\n",
       "    <tr>\n",
       "      <th>country_id</th>\n",
       "      <td>0.071045</td>\n",
       "    </tr>\n",
       "    <tr>\n",
       "      <th>graduation</th>\n",
       "      <td>0.082622</td>\n",
       "    </tr>\n",
       "    <tr>\n",
       "      <th>Info_count</th>\n",
       "      <td>0.162629</td>\n",
       "    </tr>\n",
       "    <tr>\n",
       "      <th>relation</th>\n",
       "      <td>0.198120</td>\n",
       "    </tr>\n",
       "  </tbody>\n",
       "</table>\n",
       "</div>"
      ],
      "text/plain": [
       "                           Importance\n",
       "no_search                    0.000000\n",
       "online_mobile                0.000000\n",
       "notes                        0.000584\n",
       "user_videos                  0.001917\n",
       "can_write_private_message    0.002247\n",
       "has_mobile                   0.005408\n",
       "duration                     0.007851\n",
       "albums                       0.009437\n",
       "can_post                     0.009891\n",
       "can_see_all_posts            0.010036\n",
       "online                       0.013960\n",
       "graduation_1                 0.013971\n",
       "gifts                        0.013992\n",
       "videos                       0.018660\n",
       "sex                          0.023428\n",
       "sex_num                      0.029916\n",
       "audios                       0.033331\n",
       "followers                    0.033815\n",
       "online_app                   0.037466\n",
       "photos                       0.040247\n",
       "groups                       0.041815\n",
       "city                         0.041978\n",
       "university                   0.046681\n",
       "platform                     0.048953\n",
       "country_id                   0.071045\n",
       "graduation                   0.082622\n",
       "Info_count                   0.162629\n",
       "relation                     0.198120"
      ]
     },
     "execution_count": 295,
     "metadata": {},
     "output_type": "execute_result"
    }
   ],
   "source": [
    "best_forest = RandomForestRegressor(min_samples_leaf = 3, max_depth = 17, random_state = 7)\n",
    "best_forest.fit(X_train_scaled, y_train)\n",
    "best_forest_predictions = best_forest.predict(X_train_scaled)\n",
    "rf_importance = pd.DataFrame(best_forest.feature_importances_, index=X.columns,\n",
    "                        columns=['Importance']).sort(['Importance'], ascending=True)\n",
    "rf_importance"
   ]
  },
  {
   "cell_type": "code",
   "execution_count": 296,
   "metadata": {
    "collapsed": false
   },
   "outputs": [
    {
     "data": {
      "text/html": [
       "<div>\n",
       "<table border=\"1\" class=\"dataframe\">\n",
       "  <thead>\n",
       "    <tr style=\"text-align: right;\">\n",
       "      <th></th>\n",
       "      <th>Importance on test set</th>\n",
       "    </tr>\n",
       "  </thead>\n",
       "  <tbody>\n",
       "    <tr>\n",
       "      <th>can_see_all_posts</th>\n",
       "      <td>0.009329</td>\n",
       "    </tr>\n",
       "    <tr>\n",
       "      <th>has_mobile</th>\n",
       "      <td>0.002875</td>\n",
       "    </tr>\n",
       "    <tr>\n",
       "      <th>country_id</th>\n",
       "      <td>0.139808</td>\n",
       "    </tr>\n",
       "    <tr>\n",
       "      <th>online</th>\n",
       "      <td>0.014959</td>\n",
       "    </tr>\n",
       "    <tr>\n",
       "      <th>sex</th>\n",
       "      <td>0.018250</td>\n",
       "    </tr>\n",
       "    <tr>\n",
       "      <th>can_post</th>\n",
       "      <td>0.009402</td>\n",
       "    </tr>\n",
       "    <tr>\n",
       "      <th>can_write_private_message</th>\n",
       "      <td>0.000723</td>\n",
       "    </tr>\n",
       "    <tr>\n",
       "      <th>platform</th>\n",
       "      <td>0.041132</td>\n",
       "    </tr>\n",
       "    <tr>\n",
       "      <th>relation</th>\n",
       "      <td>0.150092</td>\n",
       "    </tr>\n",
       "    <tr>\n",
       "      <th>city</th>\n",
       "      <td>0.021860</td>\n",
       "    </tr>\n",
       "    <tr>\n",
       "      <th>graduation</th>\n",
       "      <td>0.142748</td>\n",
       "    </tr>\n",
       "    <tr>\n",
       "      <th>online_mobile</th>\n",
       "      <td>0.000000</td>\n",
       "    </tr>\n",
       "    <tr>\n",
       "      <th>university</th>\n",
       "      <td>0.034963</td>\n",
       "    </tr>\n",
       "    <tr>\n",
       "      <th>graduation_1</th>\n",
       "      <td>0.019709</td>\n",
       "    </tr>\n",
       "    <tr>\n",
       "      <th>online_app</th>\n",
       "      <td>0.012147</td>\n",
       "    </tr>\n",
       "    <tr>\n",
       "      <th>videos</th>\n",
       "      <td>0.020635</td>\n",
       "    </tr>\n",
       "    <tr>\n",
       "      <th>notes</th>\n",
       "      <td>0.000000</td>\n",
       "    </tr>\n",
       "    <tr>\n",
       "      <th>audios</th>\n",
       "      <td>0.027639</td>\n",
       "    </tr>\n",
       "    <tr>\n",
       "      <th>photos</th>\n",
       "      <td>0.063564</td>\n",
       "    </tr>\n",
       "    <tr>\n",
       "      <th>followers</th>\n",
       "      <td>0.042770</td>\n",
       "    </tr>\n",
       "    <tr>\n",
       "      <th>albums</th>\n",
       "      <td>0.005982</td>\n",
       "    </tr>\n",
       "    <tr>\n",
       "      <th>gifts</th>\n",
       "      <td>0.012411</td>\n",
       "    </tr>\n",
       "    <tr>\n",
       "      <th>groups</th>\n",
       "      <td>0.063112</td>\n",
       "    </tr>\n",
       "    <tr>\n",
       "      <th>user_videos</th>\n",
       "      <td>0.000526</td>\n",
       "    </tr>\n",
       "    <tr>\n",
       "      <th>duration</th>\n",
       "      <td>0.003581</td>\n",
       "    </tr>\n",
       "    <tr>\n",
       "      <th>no_search</th>\n",
       "      <td>0.000000</td>\n",
       "    </tr>\n",
       "    <tr>\n",
       "      <th>Info_count</th>\n",
       "      <td>0.122617</td>\n",
       "    </tr>\n",
       "    <tr>\n",
       "      <th>sex_num</th>\n",
       "      <td>0.019166</td>\n",
       "    </tr>\n",
       "  </tbody>\n",
       "</table>\n",
       "</div>"
      ],
      "text/plain": [
       "                           Importance on test set\n",
       "can_see_all_posts                        0.009329\n",
       "has_mobile                               0.002875\n",
       "country_id                               0.139808\n",
       "online                                   0.014959\n",
       "sex                                      0.018250\n",
       "can_post                                 0.009402\n",
       "can_write_private_message                0.000723\n",
       "platform                                 0.041132\n",
       "relation                                 0.150092\n",
       "city                                     0.021860\n",
       "graduation                               0.142748\n",
       "online_mobile                            0.000000\n",
       "university                               0.034963\n",
       "graduation_1                             0.019709\n",
       "online_app                               0.012147\n",
       "videos                                   0.020635\n",
       "notes                                    0.000000\n",
       "audios                                   0.027639\n",
       "photos                                   0.063564\n",
       "followers                                0.042770\n",
       "albums                                   0.005982\n",
       "gifts                                    0.012411\n",
       "groups                                   0.063112\n",
       "user_videos                              0.000526\n",
       "duration                                 0.003581\n",
       "no_search                                0.000000\n",
       "Info_count                               0.122617\n",
       "sex_num                                  0.019166"
      ]
     },
     "execution_count": 296,
     "metadata": {},
     "output_type": "execute_result"
    }
   ],
   "source": [
    "best_forest_30 = RandomForestRegressor(min_samples_leaf = 3, max_depth = 17, random_state = 7)\n",
    "best_forest_30.fit(X_30_scaled, y_30)\n",
    "best_forest_predictions_30 = best_forest_30.predict(X_30_scaled)\n",
    "rf_importance_30 = pd.DataFrame(best_forest_30.feature_importances_, index=X.columns,\n",
    "                        columns=['Importance on test set'])\n",
    "rf_importance_30"
   ]
  },
  {
   "cell_type": "code",
   "execution_count": 297,
   "metadata": {
    "collapsed": false
   },
   "outputs": [
    {
     "data": {
      "text/html": [
       "<div>\n",
       "<table border=\"1\" class=\"dataframe\">\n",
       "  <thead>\n",
       "    <tr style=\"text-align: right;\">\n",
       "      <th></th>\n",
       "      <th>Importance</th>\n",
       "      <th>Importance on test set</th>\n",
       "    </tr>\n",
       "  </thead>\n",
       "  <tbody>\n",
       "    <tr>\n",
       "      <th>can_see_all_posts</th>\n",
       "      <td>0.010036</td>\n",
       "      <td>0.009329</td>\n",
       "    </tr>\n",
       "    <tr>\n",
       "      <th>has_mobile</th>\n",
       "      <td>0.005408</td>\n",
       "      <td>0.002875</td>\n",
       "    </tr>\n",
       "    <tr>\n",
       "      <th>country_id</th>\n",
       "      <td>0.071045</td>\n",
       "      <td>0.139808</td>\n",
       "    </tr>\n",
       "    <tr>\n",
       "      <th>online</th>\n",
       "      <td>0.013960</td>\n",
       "      <td>0.014959</td>\n",
       "    </tr>\n",
       "    <tr>\n",
       "      <th>sex</th>\n",
       "      <td>0.023428</td>\n",
       "      <td>0.018250</td>\n",
       "    </tr>\n",
       "    <tr>\n",
       "      <th>can_post</th>\n",
       "      <td>0.009891</td>\n",
       "      <td>0.009402</td>\n",
       "    </tr>\n",
       "    <tr>\n",
       "      <th>can_write_private_message</th>\n",
       "      <td>0.002247</td>\n",
       "      <td>0.000723</td>\n",
       "    </tr>\n",
       "    <tr>\n",
       "      <th>platform</th>\n",
       "      <td>0.048953</td>\n",
       "      <td>0.041132</td>\n",
       "    </tr>\n",
       "    <tr>\n",
       "      <th>relation</th>\n",
       "      <td>0.198120</td>\n",
       "      <td>0.150092</td>\n",
       "    </tr>\n",
       "    <tr>\n",
       "      <th>city</th>\n",
       "      <td>0.041978</td>\n",
       "      <td>0.021860</td>\n",
       "    </tr>\n",
       "    <tr>\n",
       "      <th>graduation</th>\n",
       "      <td>0.082622</td>\n",
       "      <td>0.142748</td>\n",
       "    </tr>\n",
       "    <tr>\n",
       "      <th>online_mobile</th>\n",
       "      <td>0.000000</td>\n",
       "      <td>0.000000</td>\n",
       "    </tr>\n",
       "    <tr>\n",
       "      <th>university</th>\n",
       "      <td>0.046681</td>\n",
       "      <td>0.034963</td>\n",
       "    </tr>\n",
       "    <tr>\n",
       "      <th>graduation_1</th>\n",
       "      <td>0.013971</td>\n",
       "      <td>0.019709</td>\n",
       "    </tr>\n",
       "    <tr>\n",
       "      <th>online_app</th>\n",
       "      <td>0.037466</td>\n",
       "      <td>0.012147</td>\n",
       "    </tr>\n",
       "    <tr>\n",
       "      <th>videos</th>\n",
       "      <td>0.018660</td>\n",
       "      <td>0.020635</td>\n",
       "    </tr>\n",
       "    <tr>\n",
       "      <th>notes</th>\n",
       "      <td>0.000584</td>\n",
       "      <td>0.000000</td>\n",
       "    </tr>\n",
       "    <tr>\n",
       "      <th>audios</th>\n",
       "      <td>0.033331</td>\n",
       "      <td>0.027639</td>\n",
       "    </tr>\n",
       "    <tr>\n",
       "      <th>photos</th>\n",
       "      <td>0.040247</td>\n",
       "      <td>0.063564</td>\n",
       "    </tr>\n",
       "    <tr>\n",
       "      <th>followers</th>\n",
       "      <td>0.033815</td>\n",
       "      <td>0.042770</td>\n",
       "    </tr>\n",
       "    <tr>\n",
       "      <th>albums</th>\n",
       "      <td>0.009437</td>\n",
       "      <td>0.005982</td>\n",
       "    </tr>\n",
       "    <tr>\n",
       "      <th>gifts</th>\n",
       "      <td>0.013992</td>\n",
       "      <td>0.012411</td>\n",
       "    </tr>\n",
       "    <tr>\n",
       "      <th>groups</th>\n",
       "      <td>0.041815</td>\n",
       "      <td>0.063112</td>\n",
       "    </tr>\n",
       "    <tr>\n",
       "      <th>user_videos</th>\n",
       "      <td>0.001917</td>\n",
       "      <td>0.000526</td>\n",
       "    </tr>\n",
       "    <tr>\n",
       "      <th>duration</th>\n",
       "      <td>0.007851</td>\n",
       "      <td>0.003581</td>\n",
       "    </tr>\n",
       "    <tr>\n",
       "      <th>no_search</th>\n",
       "      <td>0.000000</td>\n",
       "      <td>0.000000</td>\n",
       "    </tr>\n",
       "    <tr>\n",
       "      <th>Info_count</th>\n",
       "      <td>0.162629</td>\n",
       "      <td>0.122617</td>\n",
       "    </tr>\n",
       "    <tr>\n",
       "      <th>sex_num</th>\n",
       "      <td>0.029916</td>\n",
       "      <td>0.019166</td>\n",
       "    </tr>\n",
       "  </tbody>\n",
       "</table>\n",
       "</div>"
      ],
      "text/plain": [
       "                           Importance  Importance on test set\n",
       "can_see_all_posts            0.010036                0.009329\n",
       "has_mobile                   0.005408                0.002875\n",
       "country_id                   0.071045                0.139808\n",
       "online                       0.013960                0.014959\n",
       "sex                          0.023428                0.018250\n",
       "can_post                     0.009891                0.009402\n",
       "can_write_private_message    0.002247                0.000723\n",
       "platform                     0.048953                0.041132\n",
       "relation                     0.198120                0.150092\n",
       "city                         0.041978                0.021860\n",
       "graduation                   0.082622                0.142748\n",
       "online_mobile                0.000000                0.000000\n",
       "university                   0.046681                0.034963\n",
       "graduation_1                 0.013971                0.019709\n",
       "online_app                   0.037466                0.012147\n",
       "videos                       0.018660                0.020635\n",
       "notes                        0.000584                0.000000\n",
       "audios                       0.033331                0.027639\n",
       "photos                       0.040247                0.063564\n",
       "followers                    0.033815                0.042770\n",
       "albums                       0.009437                0.005982\n",
       "gifts                        0.013992                0.012411\n",
       "groups                       0.041815                0.063112\n",
       "user_videos                  0.001917                0.000526\n",
       "duration                     0.007851                0.003581\n",
       "no_search                    0.000000                0.000000\n",
       "Info_count                   0.162629                0.122617\n",
       "sex_num                      0.029916                0.019166"
      ]
     },
     "execution_count": 297,
     "metadata": {},
     "output_type": "execute_result"
    }
   ],
   "source": [
    "rf_importance_all = pd.DataFrame(best_forest.feature_importances_, index=X.columns,\n",
    "                        columns=['Importance'])\n",
    "\n",
    "rf_importance_all['Importance on test set'] = pd.DataFrame(best_forest_30.feature_importances_, index=X.columns,\n",
    "                        columns=['Importance on test set'])\n",
    "rf_importance_all"
   ]
  },
  {
   "cell_type": "code",
   "execution_count": null,
   "metadata": {
    "collapsed": true
   },
   "outputs": [],
   "source": []
  }
 ],
 "metadata": {
  "anaconda-cloud": {},
  "kernelspec": {
   "display_name": "Python [default]",
   "language": "python",
   "name": "python3"
  },
  "language_info": {
   "codemirror_mode": {
    "name": "ipython",
    "version": 3
   },
   "file_extension": ".py",
   "mimetype": "text/x-python",
   "name": "python",
   "nbconvert_exporter": "python",
   "pygments_lexer": "ipython3",
   "version": "3.5.2"
  },
  "name": "lesson8_part1_kmeans.ipynb"
 },
 "nbformat": 4,
 "nbformat_minor": 0
}
